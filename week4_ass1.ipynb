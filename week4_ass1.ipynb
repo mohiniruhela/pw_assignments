{
 "cells": [
  {
   "cell_type": "markdown",
   "id": "cc017ce2-0693-429c-a323-6e3e2f0ac63e",
   "metadata": {},
   "source": [
    "#### Q1, Create a vehicle class with an init method having instance variables as name_of_vehicle, max_speed and average_of_vehicle."
   ]
  },
  {
   "cell_type": "code",
   "execution_count": 16,
   "id": "693457d9-74be-4e82-97cd-3ba19c6150b9",
   "metadata": {},
   "outputs": [],
   "source": [
    "class vehicle:\n",
    "    #creating a init method which act as the constructor meaning it called when ever the object of the class is created\n",
    "    def __init__(self,name_of_vehicle,max_speed,average_of_vehicle):\n",
    "        self.name_of_vehicle = name_of_vehicle\n",
    "        self.max_speed = max_speed\n",
    "        self.average_of_vehicle = average_of_vehicle\n",
    "    #creating a details method which is basically used to print the details given to the init method    \n",
    "    def details(self):\n",
    "        return  self.name_of_vehicle,self.max_speed, self.average_of_vehicle\n",
    "    "
   ]
  },
  {
   "cell_type": "code",
   "execution_count": 17,
   "id": "a3546a59-cb65-4b12-8387-ee9303cefee0",
   "metadata": {},
   "outputs": [],
   "source": [
    "v = vehicle(\"car\",\"350 km/h\",200)"
   ]
  },
  {
   "cell_type": "code",
   "execution_count": 18,
   "id": "8674f65c-27cd-40e1-9123-54aed4d40d14",
   "metadata": {},
   "outputs": [
    {
     "data": {
      "text/plain": [
       "('car', '350 km/h', 200)"
      ]
     },
     "execution_count": 18,
     "metadata": {},
     "output_type": "execute_result"
    }
   ],
   "source": [
    "v.details()"
   ]
  },
  {
   "cell_type": "markdown",
   "id": "b6d48a9e-6698-47cb-9bf6-646e988a5b5a",
   "metadata": {},
   "source": [
    "#### Q2. Create a child class car from the vehicle class created in Que 1, which will inherit the vehicle class.Create a method named seating_capacity which takes capacity as an argument and returns the name of the vehicle and its seating capacity."
   ]
  },
  {
   "cell_type": "code",
   "execution_count": 54,
   "id": "9564aaf0-f16e-4df8-960e-32beb0cfaa53",
   "metadata": {},
   "outputs": [],
   "source": [
    "class vehicle:\n",
    "    \n",
    "    #creating a init method which act as the constructor meaning it called when ever the object of the class is created\n",
    "    def __init__(self,name_of_vehicle,max_speed,average_of_vehicle):\n",
    "        self.name_of_vehicle = name_of_vehicle\n",
    "        self.max_speed = max_speed\n",
    "        self.average_of_vehicle = average_of_vehicle\n",
    "        \n",
    "    #creating a details method which is basically used to print the details given to the init method    \n",
    "    def details(self):\n",
    "        return  self.name_of_vehicle,self.max_speed, self.average_of_vehicle\n",
    "    \n",
    "#creating the child class below\n",
    "class car(vehicle):\n",
    "    def seating_capacity(self,capacity):\n",
    "        self.capacity = capacity\n",
    "        return f\"the name of the car is -- {self.name_of_vehicle} -- and the capacity of the vehicle is -- {self.capacity} -- .\"\n",
    "        \n",
    "    "
   ]
  },
  {
   "cell_type": "code",
   "execution_count": 55,
   "id": "67443e17-ba36-4e12-bfdc-cad34ba4b093",
   "metadata": {},
   "outputs": [],
   "source": [
    "c1 = car(\"car\",\"150 km/h\",200)"
   ]
  },
  {
   "cell_type": "code",
   "execution_count": 56,
   "id": "f0030fea-2f1c-4af1-9ef5-065419ca4543",
   "metadata": {},
   "outputs": [
    {
     "name": "stdout",
     "output_type": "stream",
     "text": [
      "the name of the car is -- car -- and the capacity of the vehicle is -- 5 -- .\n"
     ]
    }
   ],
   "source": [
    "print(c1.seating_capacity(5))"
   ]
  },
  {
   "cell_type": "markdown",
   "id": "fda75edb-e0b9-4a3d-b508-d3dc7450a488",
   "metadata": {},
   "source": [
    "#### Q3. What is multiple inheritance? Write a python code to demonstrate multiple inheritance.\n",
    "\n",
    "Answer:\n",
    "\n",
    "MULTIPLE INHERITANCE:When a class is derived from more than one base class or we can say that when a single child class inherit the property of more than one parent class than that process is know to be multiple inheritance.\n",
    "\n",
    "Below is the python code to demonstrate the example of multiple inheritance."
   ]
  },
  {
   "cell_type": "code",
   "execution_count": 77,
   "id": "707edecb-926d-443a-b6a0-b15393c49b49",
   "metadata": {},
   "outputs": [],
   "source": [
    "class parent1:\n",
    "    def func1(self):\n",
    "        return \"parent_1 class\"\n",
    "class parent2:\n",
    "    def func2(self):\n",
    "        return \"parent_2 class\"\n",
    "class child(parent1,parent2):\n",
    "    def func3(self):\n",
    "        return \"child class\""
   ]
  },
  {
   "cell_type": "code",
   "execution_count": 78,
   "id": "018319cc-6027-4157-9519-28148743fc8a",
   "metadata": {},
   "outputs": [],
   "source": [
    "c = child() #child class obj"
   ]
  },
  {
   "cell_type": "code",
   "execution_count": 79,
   "id": "6cd10296-8c79-43e8-9eee-4ff0eec75495",
   "metadata": {},
   "outputs": [
    {
     "data": {
      "text/plain": [
       "'parent_1 class'"
      ]
     },
     "execution_count": 79,
     "metadata": {},
     "output_type": "execute_result"
    }
   ],
   "source": [
    "c.func1()   #inherit the function of parent class parent1"
   ]
  },
  {
   "cell_type": "code",
   "execution_count": 80,
   "id": "84be9c14-c8f4-4238-a3e2-804a10c25976",
   "metadata": {},
   "outputs": [
    {
     "data": {
      "text/plain": [
       "'parent_2 class'"
      ]
     },
     "execution_count": 80,
     "metadata": {},
     "output_type": "execute_result"
    }
   ],
   "source": [
    "c.func2()   #inherit the function of parent class parent2"
   ]
  },
  {
   "cell_type": "code",
   "execution_count": 81,
   "id": "c6f03610-6553-4c0e-8bd3-919741a04a77",
   "metadata": {},
   "outputs": [
    {
     "data": {
      "text/plain": [
       "'child class'"
      ]
     },
     "execution_count": 81,
     "metadata": {},
     "output_type": "execute_result"
    }
   ],
   "source": [
    "c.func3()   # calling the child class function itself"
   ]
  },
  {
   "cell_type": "markdown",
   "id": "92df7148-b16f-4c52-99c4-5830016466d3",
   "metadata": {},
   "source": [
    "#### Q4. What are getter and setter in python? Create a class and create a getter and a setter method in this class.\n",
    "\n",
    "ANSWER:\n",
    "\n",
    "GETTER: Getters are methods that allow to access the attribute in a given class. They are typically used to get the value of an attribute without modifying it.\n",
    "\n",
    "SETTER: Setters are methods that allow to set or mutate(change) the value of an attribute in a class. They are typically used to change the value of an attribute.\n",
    "\n",
    "In Python, we can create getters and setters method using the property() function.\n",
    "\n",
    "Below is the example:\n"
   ]
  },
  {
   "cell_type": "code",
   "execution_count": 90,
   "id": "2d3ae2d3-240f-4c36-9ce6-5db78c5a971a",
   "metadata": {},
   "outputs": [],
   "source": [
    "class skills:\n",
    "    def __init__(self,name):\n",
    "        self.name = name\n",
    "        \n",
    "    @property\n",
    "    def name_access(self):\n",
    "        return self.name\n",
    "    \n",
    "    @name_access.setter\n",
    "    def name_set(self,name):\n",
    "        self.name = name\n",
    "        \n",
    "    def get_name(self):\n",
    "        return self.name"
   ]
  },
  {
   "cell_type": "code",
   "execution_count": 91,
   "id": "da18cc61-1216-4eb7-9a7c-0dbfe6e2e4e8",
   "metadata": {},
   "outputs": [],
   "source": [
    "s = skills(\"mohini\")"
   ]
  },
  {
   "cell_type": "code",
   "execution_count": 114,
   "id": "e3573bfd-e35d-415f-8570-60f4b686a3af",
   "metadata": {},
   "outputs": [],
   "source": [
    "# Access the value using the getter method\n",
    "x = s.get_name()"
   ]
  },
  {
   "cell_type": "code",
   "execution_count": 115,
   "id": "c52bc86b-38ea-49fc-91d7-eb5901c06ec6",
   "metadata": {},
   "outputs": [
    {
     "name": "stdout",
     "output_type": "stream",
     "text": [
      "MOHINI\n"
     ]
    }
   ],
   "source": [
    "print(x)"
   ]
  },
  {
   "cell_type": "code",
   "execution_count": 94,
   "id": "c5ef0a47-de82-4290-8317-4f8e6e26cef0",
   "metadata": {},
   "outputs": [],
   "source": [
    "s.name_set = \"MOHINI\""
   ]
  },
  {
   "cell_type": "code",
   "execution_count": 95,
   "id": "e21c788a-35bc-4e75-b71f-a691a21039de",
   "metadata": {},
   "outputs": [
    {
     "data": {
      "text/plain": [
       "'MOHINI'"
      ]
     },
     "execution_count": 95,
     "metadata": {},
     "output_type": "execute_result"
    }
   ],
   "source": [
    "s.get_name()"
   ]
  },
  {
   "cell_type": "markdown",
   "id": "751e279e-38e9-446d-a72c-ec231f2e035c",
   "metadata": {},
   "source": [
    "#### Q5.What is method overriding in python? Write a python code to demonstrate method overriding.\n",
    "\n",
    "ANSWER:\n",
    "\n",
    "Method overriding is a feature in python in which a sub-class is allowed to have a different implementation of the same function that is define in the main class .So when a method is overridden (redefine) in the subclass, the version of the method defined in the subclass is used instead of the one in the superclass when the instance of the class is called it.\n",
    "\n",
    "Below is the python code to implement this concept:"
   ]
  },
  {
   "cell_type": "code",
   "execution_count": 98,
   "id": "87ef4dde-78b5-4b88-a669-d71702a60e5d",
   "metadata": {},
   "outputs": [],
   "source": [
    "class test1():\n",
    "    def std_det(self,std_id):\n",
    "        self.std_id = std_id\n",
    "          \n",
    "    def std_display(self):\n",
    "        return self.std_id\n",
    "        \n",
    "class test2():\n",
    "    def std_det(self,std_id,name):\n",
    "        self.std_id = std_id\n",
    "        self.name = name\n",
    "    \n",
    "    def std_display(self):\n",
    "        return self.std_id,self.name\n",
    "        "
   ]
  },
  {
   "cell_type": "code",
   "execution_count": 107,
   "id": "5843807e-b2f7-4afb-a2e1-f0ac28bddc4c",
   "metadata": {},
   "outputs": [],
   "source": [
    "t1 = test1() #instance of class test1"
   ]
  },
  {
   "cell_type": "code",
   "execution_count": 109,
   "id": "101086ac-2629-4853-a758-bfd5a41992ff",
   "metadata": {},
   "outputs": [],
   "source": [
    "t1.std_det(12) #calling the std_det function that is define in the class test 1"
   ]
  },
  {
   "cell_type": "code",
   "execution_count": 110,
   "id": "360af483-be51-456e-a0e0-7e9ed364daf9",
   "metadata": {},
   "outputs": [
    {
     "data": {
      "text/plain": [
       "12"
      ]
     },
     "execution_count": 110,
     "metadata": {},
     "output_type": "execute_result"
    }
   ],
   "source": [
    "t1.std_display() #displaying the info according to the parameters that are passed"
   ]
  },
  {
   "cell_type": "code",
   "execution_count": 111,
   "id": "ddc6773c-9886-4e4d-b337-248e1ef0bf49",
   "metadata": {},
   "outputs": [],
   "source": [
    "t2 = test2()  #instance of class test2"
   ]
  },
  {
   "cell_type": "code",
   "execution_count": 112,
   "id": "b9fde05b-13ca-4c25-8fff-ebca84bcfe82",
   "metadata": {},
   "outputs": [],
   "source": [
    "t2.std_det(13,\"MOHINI\") #calling the std_det overriding function that is define in the class test2 "
   ]
  },
  {
   "cell_type": "code",
   "execution_count": 113,
   "id": "3161dc56-6e5b-48f4-8072-2bd648ccb394",
   "metadata": {},
   "outputs": [
    {
     "data": {
      "text/plain": [
       "(13, 'MOHINI')"
      ]
     },
     "execution_count": 113,
     "metadata": {},
     "output_type": "execute_result"
    }
   ],
   "source": [
    "t2.std_display() #displaying the info according to the parameters that are passed"
   ]
  },
  {
   "cell_type": "code",
   "execution_count": null,
   "id": "c9c745a6-bfc5-4aa6-91b1-22a9158b09d2",
   "metadata": {},
   "outputs": [],
   "source": []
  },
  {
   "cell_type": "code",
   "execution_count": null,
   "id": "f592dc68-c54d-477f-b39c-1de583e23a45",
   "metadata": {},
   "outputs": [],
   "source": []
  }
 ],
 "metadata": {
  "kernelspec": {
   "display_name": "Python 3 (ipykernel)",
   "language": "python",
   "name": "python3"
  },
  "language_info": {
   "codemirror_mode": {
    "name": "ipython",
    "version": 3
   },
   "file_extension": ".py",
   "mimetype": "text/x-python",
   "name": "python",
   "nbconvert_exporter": "python",
   "pygments_lexer": "ipython3",
   "version": "3.10.8"
  }
 },
 "nbformat": 4,
 "nbformat_minor": 5
}
