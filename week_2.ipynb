{
 "cells": [
  {
   "cell_type": "markdown",
   "id": "0ea310aa-2b8d-4244-a244-97740ae54d89",
   "metadata": {},
   "source": [
    "#### Q1. How do you comment code in Python? What are the different types of comments?\n",
    "\n",
    "Their are two types through which can can comment code in python.\n",
    "1.Single line comment\n",
    "2.Multiline comment\n",
    "\n",
    "SINGLE LINE COMMENT:This can be done by using the # symbol so that the code willnot be interpret by python interpreter.\n",
    "\n",
    "MULTI LINE COMMENT:For this their is no specific syntax but here the docstring is treated as the multiline comment.\n",
    "\n",
    "Both the type of example are listed as:\n"
   ]
  },
  {
   "cell_type": "code",
   "execution_count": 16,
   "id": "9293eb6f-5ef3-4fb0-b58b-88f36d1be87d",
   "metadata": {},
   "outputs": [
    {
     "data": {
      "text/plain": [
       "' MULTILINE COMMENT '"
      ]
     },
     "execution_count": 16,
     "metadata": {},
     "output_type": "execute_result"
    }
   ],
   "source": [
    "#SINGLE LINE COMMENt\n",
    "\"\"\" MULTILINE COMMENT \"\"\"\n",
    "    "
   ]
  },
  {
   "cell_type": "markdown",
   "id": "5869fa73-ba87-48cc-9cd4-9197f12f751e",
   "metadata": {},
   "source": [
    "#### Q2 What are variables in Python? How do you declare and assign values to variables?\n",
    "\n",
    "Variable are used inorder to store and manipulate the data of different datatypes.\n",
    "\n",
    "Declaration of variable:\n",
    "Python has no command for declaring a variable. A variable is created when some value is assigned to it and the value which is to be assigned to a variable determines its datatype.\n",
    "\n",
    "For Example:\n",
    "a = 10  # type int\n",
    "b = 2.3 # type float\n",
    "c = True # type bool\n",
    "\n",
    "a,b = 1,2 # double assignment\n"
   ]
  },
  {
   "cell_type": "markdown",
   "id": "87fc951e-061b-4d81-aeaf-b52fa09d72bf",
   "metadata": {},
   "source": [
    "#### Q3. How do you convert one data type to another in Python?\n",
    "\n",
    "In python we can use the type conversion functions to convert one data type to another.\n",
    "\n",
    "for example:\n",
    "a = 2 # type int    \n",
    "float(a) # type of a as integer changes to float\n",
    "\n",
    "Similarly their are various type conversion functions some of them are listed as:\n",
    "int(),float(),str(),list(),tuple(),bool()\n"
   ]
  },
  {
   "cell_type": "markdown",
   "id": "5eb04103-9b47-48ac-a94e-1383c6f93578",
   "metadata": {},
   "source": [
    "#### Q4. How do you write and execute a Python script from the command line?\n",
    "\n",
    "To write and execute a Python script from the command line the following steps are given below:\n",
    "\n",
    "1.At first open a text editor and then we will write Python code in it.\n",
    "\n",
    "2.Then we will save the file with a .py extension, for example-add.py.\n",
    "\n",
    "3.Open the command prompt after that,or can terminal on the computer.\n",
    "\n",
    "4.After that,we have to navigate to the directory where the Python script is saved using the cd command. For example-if the script is saved upon the desktop, we can use cd Desktop to navigate to the desktop directory.\n",
    "\n",
    "5.Once we are in the correct directory we can execute the Python script by typing python add.py in the command prompt or terminal and pressing enter.\n",
    "\n",
    "The Python script will be executed and the output will be displayed in the command prompt or terminal."
   ]
  },
  {
   "cell_type": "markdown",
   "id": "7cdbcc1f-42a9-421f-97a4-24bfb7756dd8",
   "metadata": {},
   "source": [
    "#### Q5. Given a list my_list = [1, 2, 3, 4, 5], write the code to slice the list and obtain the sub-list [2, 3].\n"
   ]
  },
  {
   "cell_type": "code",
   "execution_count": 18,
   "id": "fcfe69aa-4dce-4e86-8d6f-7d13e34b6432",
   "metadata": {},
   "outputs": [],
   "source": [
    "my_list = [1,2,3,4,5]"
   ]
  },
  {
   "cell_type": "code",
   "execution_count": 19,
   "id": "7b811edd-cdfb-485a-878f-87f24a17504d",
   "metadata": {},
   "outputs": [
    {
     "data": {
      "text/plain": [
       "[2, 3]"
      ]
     },
     "execution_count": 19,
     "metadata": {},
     "output_type": "execute_result"
    }
   ],
   "source": [
    "my_list[1:3]"
   ]
  },
  {
   "cell_type": "markdown",
   "id": "c931e798-e34b-46ab-a48d-629db240167f",
   "metadata": {},
   "source": [
    "#### Q6. What is a complex number in mathematics, and how is it represented in Python?  \n",
    "\n",
    "A complex number is such kind of number in mathematics which consist of two parts one is the real part and other one is the imaginary part.It is written in the form if a+bi where i represent the imaginary unit.\n",
    "\n",
    "In pthon the complex number is representes by the j suffix to denote the imaginary part.\n",
    "\\\n",
    "For example 1+2j represents a complex number where a real part is denoted by 1 and an imaginary part is denoted by 2."
   ]
  },
  {
   "cell_type": "markdown",
   "id": "6c41831a-ebcf-4ce5-ab31-cd518172ff6a",
   "metadata": {},
   "source": [
    "\n",
    "#### Q7. What is the correct way to declare a variable named age and assign the value 25 to it?"
   ]
  },
  {
   "cell_type": "code",
   "execution_count": 20,
   "id": "9a13a86b-e2de-4a5c-ab18-c3c76dca5eee",
   "metadata": {},
   "outputs": [],
   "source": [
    "age = 25"
   ]
  },
  {
   "cell_type": "markdown",
   "id": "9c8a3f90-ffd4-43bc-a670-0534da2d87f0",
   "metadata": {},
   "source": [
    "In the above,variable 'age; is declared and assigned the value '25' using the assignment operator (=). The variable age now holds the value '25'."
   ]
  },
  {
   "cell_type": "markdown",
   "id": "51c63b56-eb17-41c4-ac87-6670a9ec9fc6",
   "metadata": {},
   "source": [
    "#### Q8. Declare a variable named price and assign the value 9.99 to it. What data type does this variable belong to?"
   ]
  },
  {
   "cell_type": "code",
   "execution_count": 21,
   "id": "05366762-88ef-4b90-8e1b-8537b4f2ea5b",
   "metadata": {},
   "outputs": [],
   "source": [
    "price = 9.999 "
   ]
  },
  {
   "cell_type": "markdown",
   "id": "b399a858-2671-4dcd-8b37-6e841cc08d7c",
   "metadata": {},
   "source": [
    "Price belong to float data type"
   ]
  },
  {
   "cell_type": "markdown",
   "id": "5ceed854-344e-40ae-867f-65ead77db0a6",
   "metadata": {},
   "source": [
    "#### Q9. Create a variable named name and assign your full name to it as a string. How would you print the value of this variable?"
   ]
  },
  {
   "cell_type": "code",
   "execution_count": 22,
   "id": "442b443a-62d7-4006-81e3-d2c31426f2c8",
   "metadata": {},
   "outputs": [],
   "source": [
    "name = \"Mohini Ruhela\""
   ]
  },
  {
   "cell_type": "code",
   "execution_count": 23,
   "id": "b7253efa-7c54-4af5-abac-cce6f9a7273a",
   "metadata": {},
   "outputs": [],
   "source": [
    "#for printing the name vaiable we just type name in the coding section nd it will return the string i.e Mohini Ruhela as the string"
   ]
  },
  {
   "cell_type": "code",
   "execution_count": 24,
   "id": "a3bae04d-f0f0-4cf3-ba5f-5971f23473f1",
   "metadata": {},
   "outputs": [
    {
     "data": {
      "text/plain": [
       "'Mohini Ruhela'"
      ]
     },
     "execution_count": 24,
     "metadata": {},
     "output_type": "execute_result"
    }
   ],
   "source": [
    "name"
   ]
  },
  {
   "cell_type": "markdown",
   "id": "06cc0003-ece1-47ef-afbb-f698a7699648",
   "metadata": {},
   "source": [
    "#### Q10. Given the string \"Hello, World!\", extract the substring \"World\".\n",
    "Let x be the sttring consist of \"Hello, World!\""
   ]
  },
  {
   "cell_type": "code",
   "execution_count": 25,
   "id": "8f87b5ef-7e1c-4ad2-ae30-164dbc4a425c",
   "metadata": {},
   "outputs": [],
   "source": [
    "x =  \"Hello, World!\""
   ]
  },
  {
   "cell_type": "code",
   "execution_count": 26,
   "id": "ce0712d1-3790-493e-a302-fcf73a61105b",
   "metadata": {},
   "outputs": [
    {
     "data": {
      "text/plain": [
       "'World'"
      ]
     },
     "execution_count": 26,
     "metadata": {},
     "output_type": "execute_result"
    }
   ],
   "source": [
    "x[7:12]"
   ]
  },
  {
   "cell_type": "markdown",
   "id": "438592a8-fb44-4248-a65b-48b867b34e36",
   "metadata": {},
   "source": [
    "#### Q11. Create a variable named \"is_student\" and assign it a boolean value indicating whether you are currently"
   ]
  },
  {
   "cell_type": "code",
   "execution_count": 27,
   "id": "8b971d83-a041-4b13-b98f-98ce625a4e93",
   "metadata": {},
   "outputs": [],
   "source": [
    "is_student = True"
   ]
  },
  {
   "cell_type": "code",
   "execution_count": 28,
   "id": "6dafeb88-0eaa-4922-94db-37a050b570fe",
   "metadata": {},
   "outputs": [
    {
     "data": {
      "text/plain": [
       "True"
      ]
     },
     "execution_count": 28,
     "metadata": {},
     "output_type": "execute_result"
    }
   ],
   "source": [
    "is_student"
   ]
  },
  {
   "cell_type": "code",
   "execution_count": null,
   "id": "af209efd-73d5-42c9-9f58-57cd557332fc",
   "metadata": {},
   "outputs": [],
   "source": []
  }
 ],
 "metadata": {
  "kernelspec": {
   "display_name": "Python 3 (ipykernel)",
   "language": "python",
   "name": "python3"
  },
  "language_info": {
   "codemirror_mode": {
    "name": "ipython",
    "version": 3
   },
   "file_extension": ".py",
   "mimetype": "text/x-python",
   "name": "python",
   "nbconvert_exporter": "python",
   "pygments_lexer": "ipython3",
   "version": "3.10.8"
  }
 },
 "nbformat": 4,
 "nbformat_minor": 5
}
