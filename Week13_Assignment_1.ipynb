{
 "cells": [
  {
   "cell_type": "markdown",
   "id": "7b5781e4",
   "metadata": {},
   "source": [
    "# Introduction to  Machine Learning-1"
   ]
  },
  {
   "cell_type": "markdown",
   "id": "56201549",
   "metadata": {},
   "source": [
    "# Q1: Explain the following with an example:\n",
    "1) Artificial Intelligence\n",
    "2) Machine Learnin,\n",
    "3) Deep Learning\n"
   ]
  },
  {
   "cell_type": "markdown",
   "id": "a8bfb247",
   "metadata": {},
   "source": [
    "# Artificial Intelligence:\n",
    "\n",
    "->In my understanding Artificial Intelligence is used in order to create Smarter Applications that comprises of 4 main pillers in order to create them:\n",
    "\n",
    "  1.Data\n",
    "  \n",
    "  2.Training \n",
    "  \n",
    "  3.Engine\n",
    "  \n",
    "  4.Action/Deployment\n",
    "  \n",
    "  The application Created upon these pillers perform its own task without the human interventions.\n",
    "  \n",
    "  \n",
    "  Examples: Self Driving Cars,Robots,Alexa etc.\n",
    ">It is an umbrella term which encompassing diverse approaches like machine learning, deep learning, natural language processing, computer vision, and robotics.  \n",
    "--------------------------------------------------------------------------------------------------------------------------------  \n",
    "# Machine Learning\n",
    "\n",
    "->It is a wide field that provide stats tool to analyze, visualize,predictive model,forecasting.\n",
    "\n",
    "->It consist a wide range of algorithms eg: Linear and Logistic Regression,SVM and Decision Tree,KNN and CPA and many more all     the algorithm have their specific purpose and use.\n",
    "\n",
    "->Moving forward with the type of Machine Learning.\n",
    "\n",
    "  1.Supervised Machine Learning:\n",
    "      1.1) Classification : here the output will be the categorical in nature.\n",
    "      1.2) Regression: here the output will be continuous in nature.\n",
    "      \n",
    "      \n",
    "  2.Unsuprevised Machine Learning:\n",
    "      - Clustering concept is to be used here.\n",
    "      \n",
    "      \n",
    "  3.Semi-Supervised Machine Learning:\n",
    "      - Combination of Supervised+Unsupervised Machine Learning\n",
    "      \n",
    "      \n",
    "  4.Reinforcement Learning:\n",
    "         -here the intelligent agents ought to take actions in the environment to maximize the notation of Cumulative reward.\n",
    ">Some example: Amazon.in,Netflix Both of them uses Recomendation System .         \n",
    "--------------------------------------------------------------------------------------------------------------------------------\n",
    "\n",
    "# Deep Learning:\n",
    "\n",
    "->It basically is the subset of Machine Learing.\n",
    "\n",
    "->It Mimic the Human Brain.\n",
    "\n",
    "->Uses the Multi Layered Neural Network.\n",
    "\n",
    "->Eg: Object Detection Image Recognition ,CHATBOT Recommendation System.\n",
    "\n",
    "\n",
    "So as per my knowledge the basic term AI,ML,Deep Learning i have illustrate above.\n",
    "      \n",
    "  \n",
    "  "
   ]
  },
  {
   "cell_type": "markdown",
   "id": "c66709eb",
   "metadata": {},
   "source": [
    "# Q2: What is supervised learning? List some examples of supervised learning. "
   ]
  },
  {
   "cell_type": "markdown",
   "id": "da9e9cf3",
   "metadata": {},
   "source": [
    "-> It is a part of Machine Learning in which the output feature of the dataset is known and the modles are ttrining upon the training datasets.\n",
    "\n",
    "-> It is basically divided into 2 parts:\n",
    "\n",
    "    1.Supervised Machine Learning:\n",
    "    \n",
    "      1.1) Classification : here the output will be the categorical in nature.      \n",
    "      1.2) Regression: here the output will be continuous in nature.\n",
    "      \n",
    "->Examples:\n",
    "\n",
    "   1) Classification:\n",
    "    Let we have the following dataset:\n",
    "    \n",
    "    No. of hour played : 8,7,6,5,4    \n",
    "    No. of Study hours : 2,3,4,5,6 \n",
    "    \n",
    "    So based upon the above dataset we have to predict menas we have to give the output feature as Pass/Fail which is\n",
    "    categorical in nature.\n",
    "    \n",
    "    Pass/Fail: Fail,Fail,Fail,Pass,Pass.\n",
    "    \n",
    "    And this output feature is totally dependent upon our given input.\n",
    "    \n",
    "   2) Regression:\n",
    "    Let we have the following dataset:\n",
    "    \n",
    "    Size of house :    \n",
    "    No. of Rooms  :\n",
    "    \n",
    "    So based upon the input feature will be predicting the Price of the house which is our output feature and which is \n",
    "    dependend upon the input feature.\n",
    "    \n",
    "    "
   ]
  },
  {
   "cell_type": "markdown",
   "id": "5b202100",
   "metadata": {},
   "source": [
    "# Q3:  What is unsupervised learning? List some examples of unsupervised learning."
   ]
  },
  {
   "cell_type": "markdown",
   "id": "d62f8736",
   "metadata": {},
   "source": [
    " -> Unsupervised learning is a technique in which models are not supervised/trained using training dataset. Here the models itself find the hidden patterns and insights from the given data.\n",
    " \n",
    "-> Here the concept of Clustering is to be introduced.\n",
    "\n",
    "-> Clustering simply means grouping the information of similar data.\n",
    "\n",
    "->Example:\n",
    " 1.Let suppose we are taking an example of Customer segmentation where the customer are divided upon the basis of expenditures \n",
    " and salary,so that the \n",
    " \n",
    "    -clustors having salary high and expenditure low  lies in the top left part of the graph\n",
    "    -clustors having salary low and expenditure is quite high  lies in the bottom left part of the graph\n",
    "    -clustors having salary high and expenditure high  lies in the top right part of the graph\n",
    "    -clustors having salary low and expenditure high  lies in the bottom right part of the graph\n",
    "  \n",
    "  2.It can also used in the image detection where a rich dataset of some animals are to be provided to the model and then the model in itself find thefeatures and based upon the features it identify images.\n",
    "  \n",
    "  3.In my opinion we can include Snapchat here like the way this application detect the facial nature of human and based upon that it applies the filters."
   ]
  },
  {
   "cell_type": "markdown",
   "id": "0c2a63cf",
   "metadata": {},
   "source": [
    "# Q4: What is the difference between AI, ML, DL, and DS?"
   ]
  },
  {
   "cell_type": "markdown",
   "id": "d84f52bf",
   "metadata": {},
   "source": [
    " AI: Ai simply is the smarter application that is created upon the basis of the understanding of ML,DL,DS.Applications that can perform its own tasks without any human intervension.\n",
    "\n",
    "#ML: Subset of AI,ML provide all the statistical tools to analyze,visualize predictive model,forecasting.\n",
    "\n",
    "#DL: Subset of ML,Its is something that mimics the Human Behavious which uses Multilayered NeuralNetwork that incorporate intelligence into machines.\n",
    "\n",
    "#DS :Ds Uses Statistics,Linear Algebra,Calculus,Probablity in order to analyse and predict the behaviour of the model."
   ]
  },
  {
   "cell_type": "markdown",
   "id": "39e258a4",
   "metadata": {},
   "source": [
    "# Q5: What are the main differences between supervised, unsupervised, and semi-supervised learning?"
   ]
  },
  {
   "cell_type": "markdown",
   "id": "fc081227",
   "metadata": {},
   "source": [
    " Main Differences are:\n",
    " \n",
    "    Supervised ML:\n",
    "        -Supervised learning algorithms are trained using labeled data.\n",
    "        -Here,input data is provided to the model along with the output.\n",
    "        -Supervised learning needs supervision to train the model.\n",
    "        -Supervised learning can be categorized in Classification and Regression problems.\n",
    "        \n",
    "    Unsupervised ML:\n",
    "        -Supervised learning algorithms are not trained using labeled data.\n",
    "        -Here,Only input data is provided to the model.\n",
    "        -It supervise itself to train the model.\n",
    "        -Unsupervised Learning can be classified in Clustering and Associations problems.\n",
    "        \n",
    "    Semi-Supervised ML:\n",
    "        -Combination of both means , Supervised + Unsupervised learning.\n",
    "        -Trained on both labeled and unlabled data.\n",
    "        "
   ]
  },
  {
   "cell_type": "markdown",
   "id": "0e3c52d9",
   "metadata": {},
   "source": [
    "# Q6: What is train, test and validation split? Explain the importance of each term."
   ]
  },
  {
   "cell_type": "markdown",
   "id": "dc1e5025",
   "metadata": {},
   "source": [
    "->The train-test-validation split is fundamental in machine learning and data analysis,particularly during model development.\n",
    "\n",
    "->It involves dividing a dataset into three subsets:\n",
    "    Training, Testing, and Validation.\n",
    "    \n",
    "  Now let's se them one by one:\n",
    "  \n",
    "  #Training:\n",
    "  -Here we will train our model through training dataset.\n",
    "  \n",
    "  #Validation:\n",
    "  -Here the hyper tuning of the model is to be done like by increasing or decreasing the parameters the hypertuning is to\n",
    "   be checked.\n",
    "   \n",
    "  #Test:\n",
    "  -Model is finally is tested inorder to check its functionality.\n",
    "  \n",
    "Note: Here Model only have the info of trainng & Validation Dataset ,Testing Dataset is always hidden.  "
   ]
  },
  {
   "cell_type": "markdown",
   "id": "ff04935c",
   "metadata": {},
   "source": [
    "# Q7: How can unsupervised learning be used in anomaly detection?"
   ]
  },
  {
   "cell_type": "markdown",
   "id": "fe6f988f",
   "metadata": {},
   "source": [
    "Anomaly detection is one of the main application of Unsupervised learning which is basically used to identifying normal patterns within a data sample and then detecting outliers based on the natural characteristics of the data set itself.\n",
    "\n",
    "Examples of Unsupervised Anomaly Detection Applications:\n",
    "\n",
    "Fraud detection: Identifying unusual financial transactions or credit card activities.\n",
    "\n",
    "Network intrusion detection: Spotting suspicious network traffic patterns indicative of cyberattacks.\n",
    "\n",
    "Machine condition monitoring: Predicting equipment failures based on sensor data deviations from normal operating conditions.\n",
    "\n",
    "Quality control in manufacturing: Detecting defective products during production based on anomalies in sensor readings."
   ]
  },
  {
   "cell_type": "markdown",
   "id": "393bde3b",
   "metadata": {},
   "source": [
    "# Q8: List down some commonly used supervised learning algorithms and unsupervised learning algorithms."
   ]
  },
  {
   "cell_type": "markdown",
   "id": "71d21d51",
   "metadata": {},
   "source": [
    " Supervise Learning Algorithm:\n",
    " \n",
    "-> Decision Tree:\n",
    "        It is basically a tree-like flowchart that maps choices and their potential outcomes, guiding decisions through a \n",
    "        series of yes/no questions.        \n",
    "->Logistic Regression:\n",
    "    Predicting probabilities via a squished linear function that models log-odds.    \n",
    "->Linear Regression:\n",
    "     Fitting a straight line to data to model relationships and make predictions.      \n",
    "->Support Vector Machine:\n",
    "    Finding the widest street between point-groups in high-dimensional space.\n",
    "\n",
    "UnSupervise Learning Algorithm:\n",
    "\n",
    "->K-means clustering:\n",
    "    Grouping data points into K clusters by iteratively minimizing distances to cluster centers.    \n",
    "->Hierarchical Clustering:\n",
    "    Progressively merging or splitting data points to build a tree-like structure of clusters.    \n"
   ]
  },
  {
   "cell_type": "code",
   "execution_count": null,
   "id": "6fa1748a",
   "metadata": {},
   "outputs": [],
   "source": []
  },
  {
   "cell_type": "code",
   "execution_count": null,
   "id": "0f98a286",
   "metadata": {},
   "outputs": [],
   "source": []
  },
  {
   "cell_type": "code",
   "execution_count": null,
   "id": "f2770374",
   "metadata": {},
   "outputs": [],
   "source": []
  },
  {
   "cell_type": "code",
   "execution_count": null,
   "id": "1ad90db5",
   "metadata": {},
   "outputs": [],
   "source": []
  },
  {
   "cell_type": "code",
   "execution_count": null,
   "id": "2aa864a5",
   "metadata": {},
   "outputs": [],
   "source": []
  },
  {
   "cell_type": "code",
   "execution_count": null,
   "id": "f99caeef",
   "metadata": {},
   "outputs": [],
   "source": []
  },
  {
   "cell_type": "code",
   "execution_count": null,
   "id": "749000ec",
   "metadata": {},
   "outputs": [],
   "source": []
  },
  {
   "cell_type": "code",
   "execution_count": null,
   "id": "28b6fab1",
   "metadata": {},
   "outputs": [],
   "source": []
  },
  {
   "cell_type": "code",
   "execution_count": null,
   "id": "d7d0bc5a",
   "metadata": {},
   "outputs": [],
   "source": []
  },
  {
   "cell_type": "code",
   "execution_count": null,
   "id": "55803fcd",
   "metadata": {},
   "outputs": [],
   "source": []
  },
  {
   "cell_type": "code",
   "execution_count": null,
   "id": "1af98464",
   "metadata": {},
   "outputs": [],
   "source": []
  },
  {
   "cell_type": "code",
   "execution_count": null,
   "id": "cdae6c3a",
   "metadata": {},
   "outputs": [],
   "source": []
  },
  {
   "cell_type": "code",
   "execution_count": null,
   "id": "e43c4370",
   "metadata": {},
   "outputs": [],
   "source": []
  },
  {
   "cell_type": "code",
   "execution_count": null,
   "id": "2d8235bd",
   "metadata": {},
   "outputs": [],
   "source": []
  },
  {
   "cell_type": "code",
   "execution_count": null,
   "id": "ee037aa3",
   "metadata": {},
   "outputs": [],
   "source": []
  },
  {
   "cell_type": "code",
   "execution_count": null,
   "id": "261fe854",
   "metadata": {},
   "outputs": [],
   "source": []
  },
  {
   "cell_type": "code",
   "execution_count": null,
   "id": "125f7cc3",
   "metadata": {},
   "outputs": [],
   "source": []
  },
  {
   "cell_type": "code",
   "execution_count": null,
   "id": "a2dbec7d",
   "metadata": {},
   "outputs": [],
   "source": []
  },
  {
   "cell_type": "code",
   "execution_count": null,
   "id": "894f6de1",
   "metadata": {},
   "outputs": [],
   "source": []
  },
  {
   "cell_type": "code",
   "execution_count": null,
   "id": "701244f8",
   "metadata": {},
   "outputs": [],
   "source": []
  }
 ],
 "metadata": {
  "kernelspec": {
   "display_name": "Python 3 (ipykernel)",
   "language": "python",
   "name": "python3"
  },
  "language_info": {
   "codemirror_mode": {
    "name": "ipython",
    "version": 3
   },
   "file_extension": ".py",
   "mimetype": "text/x-python",
   "name": "python",
   "nbconvert_exporter": "python",
   "pygments_lexer": "ipython3",
   "version": "3.11.5"
  }
 },
 "nbformat": 4,
 "nbformat_minor": 5
}
