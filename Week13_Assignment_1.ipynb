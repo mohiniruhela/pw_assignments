{
 "cells": [
  {
   "cell_type": "markdown",
   "id": "7b5781e4",
   "metadata": {},
   "source": [
    "# Introduction to  Machine Learning-1"
   ]
  },
  {
   "cell_type": "markdown",
   "id": "56201549",
   "metadata": {},
   "source": [
    "# Q1: Explain the following with an example:\n",
    "1) Artificial Intelligence\n",
    "2) Machine Learnin,\n",
    "3) Deep Learning\n"
   ]
  },
  {
   "cell_type": "raw",
   "id": "2b2b7840",
   "metadata": {},
   "source": [
    "# Artificial Intelligence:\n",
    "\n",
    "->In my understanding Artificial Intelligence is used in order to create Smarter Applications that comprises of 4 main pillers in order to create them:\n",
    "  1.Data\n",
    "  2.Training \n",
    "  3.Engine\n",
    "  4.Action/Deployment\n",
    "  \n",
    "  The application Created upon these pillers perform its own task without the human interventions.\n",
    "  Examples: Self Driving Cars,Robots,Alexa etc.\n",
    "->It is an umbrella term which encompassing diverse approaches like machine learning, deep learning, natural language processing, computer vision, and robotics.   \n",
    "--------------------------------------------------------------------------------------------------------------------------------  \n",
    "# Machine Learning\n",
    "\n",
    "->It is a wide field that provide stats tool to analyze, visualize,predictive model,forecasting.\n",
    "->It consist a wide range of algorithms eg: Linear and Logistic Regression,SVM and Decision Tree,KNN and CPA and many more all     the algorithm have their specific purpose and use.\n",
    "\n",
    "->Moving forward with the type of Machine Learning.\n",
    "  1.Supervised Machine Learning:\n",
    "      1.1) Classification : here the output will be the categorical in nature.\n",
    "      1.2) Regression: here the output will be continuous in nature.\n",
    "  2.Unsuprevised Machine Learning:\n",
    "      - Clustering concept is to be used here.\n",
    "  3.Semi-Supervised Machine Learning:\n",
    "      - Combination of Supervised+Unsupervised Machine Learning\n",
    "  4.Reinforcement Learning:\n",
    "         -here the intelligent agents ought to take actions in the environment to maximize the notation of Cumulative reward.\n",
    "         \n",
    "->Some example: Amazon.in,Netflix Both of them uses Recomendation System .         \n",
    "--------------------------------------------------------------------------------------------------------------------------------\n",
    "\n",
    "# Deep Learning:\n",
    "\n",
    "->It basically is the subset of Machine Learing.\n",
    "->It Mimic the Human Brain.\n",
    "->Uses the Multi Layered Neural Network.\n",
    "->Eg: Object Detection Image Recognition ,CHATBOT Recommendation System.\n",
    "\n",
    "\n",
    "So as per my knowledge the basic term AI,ML,Deep Learning i have illustrate above.\n",
    "      \n",
    "  \n",
    "  "
   ]
  },
  {
   "cell_type": "markdown",
   "id": "c66709eb",
   "metadata": {},
   "source": [
    "# Q2: What is supervised learning? List some examples of supervised learning. "
   ]
  },
  {
   "cell_type": "raw",
   "id": "d40844d5",
   "metadata": {},
   "source": [
    "-> It is a part of Machine Learning in which the output feature of the dataset is known and the modles are tarining upon the training datasets.\n",
    "-> It is basically divided into 2 parts:\n",
    "    1.Supervised Machine Learning:\n",
    "      1.1) Classification : here the output will be the categorical in nature.\n",
    "      1.2) Regression: here the output will be continuous in nature.\n",
    "      \n",
    "->Examples:\n",
    "\n",
    "   1) Classification:\n",
    "    Let we have the following dataset:\n",
    "    No. of hour played : 8,7,6,5,4\n",
    "    No. of Study hours : 2,3,4,5,6    \n",
    "    So based upon the above dataset we have to predict menas we have to give the output feature as Pass/Fail which is\n",
    "    categorical in nature.\n",
    "    Pass/Fail: Fail,Fail,Fail,Pass,Pass.\n",
    "    And this output feature is totally dependent upon our given input.\n",
    "    \n",
    "   2) Regression:\n",
    "    Let we have the following dataset:\n",
    "    Size of house :\n",
    "    No. of Rooms  :\n",
    "    So based upon the input feature will be predicting the Price of the house which is our output feature and which is \n",
    "    dependend upon the input feature.\n",
    "    \n",
    "    "
   ]
  },
  {
   "cell_type": "markdown",
   "id": "5b202100",
   "metadata": {},
   "source": [
    "# Q3:  What is unsupervised learning? List some examples of unsupervised learning."
   ]
  },
  {
   "cell_type": "raw",
   "id": "682b9201",
   "metadata": {},
   "source": [
    "-> Unsupervised learning is a technique in which models are not supervised/trained using training dataset. Here the models itself find the hidden patterns and insights from the given data.\n",
    "-> Here the concept of Clustering is to be introduced.\n",
    "-> Clustering simply means grouping the information of similar data.\n",
    "\n",
    "->Example:\n",
    " 1.Let suppose we are taking an example of Customer segmentation where the customer are divided upon the basis of expenditures \n",
    " and salary,so that the \n",
    "    -clustors having salary high and expenditure low  lies in the top left part of the graph\n",
    "    -clustors having salary low and expenditure is quite high  lies in the bottom left part of the graph\n",
    "    -clustors having salary high and expenditure high  lies in the top right part of the graph\n",
    "    -clustors having salary low and expenditure high  lies in the bottom right part of the graph\n",
    "  \n",
    "  2.It can also used in the image detection where a rich dataset of some animals are to be provided to the model and then the model in itself find thefeatures and based upon the features it identify images.\n",
    "  \n",
    "  3.In my opinion we can include Snapchat here like the way this application detect the facial nature of human and based upon that it applies the filters."
   ]
  },
  {
   "cell_type": "markdown",
   "id": "0c2a63cf",
   "metadata": {},
   "source": [
    "# Q4: What is the difference between AI, ML, DL, and DS?"
   ]
  },
  {
   "cell_type": "raw",
   "id": "0b2dda3b",
   "metadata": {},
   "source": [
    "# AI: Ai simply is the smarter application that is created upon the basis of the understanding of ML,DL,DS.Applications that can perform its own tasks without any human intervension.\n",
    "\n",
    "#ML: Subset of AI,ML provide all the statistical tools to analyze,visualize predictive model,forecasting.\n",
    "\n",
    "#DL: Subset of ML,Its is something that mimics the Human Behavious which uses Multilayered NeuralNetwork that incorporate intelligence into machines.\n",
    "\n",
    "#DS :Ds Uses Statistics,Linear Algebra,Calculus,Probablity in order to analyse and predict the behaviour of the model."
   ]
  },
  {
   "cell_type": "markdown",
   "id": "39e258a4",
   "metadata": {},
   "source": [
    "# Q5: What are the main differences between supervised, unsupervised, and semi-supervised learning?"
   ]
  },
  {
   "cell_type": "raw",
   "id": "9abed668",
   "metadata": {},
   "source": [
    "Main Differences are:\n",
    "    Supervised ML:\n",
    "        -Supervised learning algorithms are trained using labeled data.\n",
    "        -Here,input data is provided to the model along with the output.\n",
    "        -Supervised learning needs supervision to train the model.\n",
    "        -Supervised learning can be categorized in Classification and Regression problems.\n",
    "    Unsupervised ML:\n",
    "        -Supervised learning algorithms are not trained using labeled data.\n",
    "        -Here,Only input data is provided to the model.\n",
    "        -It supervise itself to train the model.\n",
    "        -Unsupervised Learning can be classified in Clustering and Associations problems.\n",
    "    Semi-Supervised ML:\n",
    "        -Combination of both means , Supervised + Unsupervised learning.\n",
    "        -Trained on both labeled and unlabled data.\n",
    "        "
   ]
  },
  {
   "cell_type": "markdown",
   "id": "0e3c52d9",
   "metadata": {},
   "source": [
    "# Q6: What is train, test and validation split? Explain the importance of each term."
   ]
  },
  {
   "cell_type": "raw",
   "id": "e1e4f42a",
   "metadata": {},
   "source": [
    "->The train-test-validation split is fundamental in machine learning and data analysis,particularly during model development.\n",
    "->It involves dividing a dataset into three subsets:\n",
    "    Training, Testing, and Validation.\n",
    "    \n",
    "  Now let's se them one by one:\n",
    "  \n",
    "  #Training:\n",
    "  -Here we will train our model through training dataset.\n",
    "  #Validation:\n",
    "  -Here the hyper tuning of the model is to be done like by increasing or decreasing the parameters the hypertuning is to\n",
    "   be checked.\n",
    "  #Test:\n",
    "  -Model is finally is tested inorder to check its functionality.\n",
    "  \n",
    "Note: Here Model only have the info of trainng & Validation Dataset ,Testing Dataset is always hidden.  "
   ]
  },
  {
   "cell_type": "markdown",
   "id": "ff04935c",
   "metadata": {},
   "source": [
    "# Q7: How can unsupervised learning be used in anomaly detection?"
   ]
  },
  {
   "cell_type": "raw",
   "id": "d061d0be",
   "metadata": {},
   "source": [
    "Anomaly detection is one of the main application of Unsupervised learning which is basically used to identifying normal patterns within a data sample and then detecting outliers based on the natural characteristics of the data set itself.\n",
    "\n",
    "Examples of Unsupervised Anomaly Detection Applications:\n",
    "\n",
    "Fraud detection: Identifying unusual financial transactions or credit card activities.\n",
    "Network intrusion detection: Spotting suspicious network traffic patterns indicative of cyberattacks.\n",
    "Machine condition monitoring: Predicting equipment failures based on sensor data deviations from normal operating conditions.\n",
    "Quality control in manufacturing: Detecting defective products during production based on anomalies in sensor readings."
   ]
  },
  {
   "cell_type": "markdown",
   "id": "393bde3b",
   "metadata": {},
   "source": [
    "# Q8: List down some commonly used supervised learning algorithms and unsupervised learning algorithms."
   ]
  },
  {
   "cell_type": "raw",
   "id": "4ee90e14",
   "metadata": {},
   "source": [
    "# Supervise Learning Algorithm:\n",
    "-> Decision Tree:\n",
    "        It is basically a tree-like flowchart that maps choices and their potential outcomes, guiding decisions through a \n",
    "        series of yes/no questions.\n",
    "->Logistic Regression:\n",
    "    Predicting probabilities via a squished linear function that models log-odds.\n",
    "->Linear Regression:\n",
    "     Fitting a straight line to data to model relationships and make predictions.    \n",
    "->Support Vector Machine:\n",
    "    Finding the widest street between point-groups in high-dimensional space.\n",
    "\n",
    "# UnSupervise Learning Algorithm:\n",
    "->K-means clustering:\n",
    "    Grouping data points into K clusters by iteratively minimizing distances to cluster centers.\n",
    "->Hierarchical Clustering:\n",
    "    Progressively merging or splitting data points to build a tree-like structure of clusters.    \n"
   ]
  }
 ],
 "metadata": {
  "kernelspec": {
   "display_name": "Python 3 (ipykernel)",
   "language": "python",
   "name": "python3"
  },
  "language_info": {
   "codemirror_mode": {
    "name": "ipython",
    "version": 3
   },
   "file_extension": ".py",
   "mimetype": "text/x-python",
   "name": "python",
   "nbconvert_exporter": "python",
   "pygments_lexer": "ipython3",
   "version": "3.11.5"
  }
 },
 "nbformat": 4,
 "nbformat_minor": 5
}
