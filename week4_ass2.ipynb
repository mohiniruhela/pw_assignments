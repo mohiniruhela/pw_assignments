{
 "cells": [
  {
   "cell_type": "markdown",
   "id": "0545fb56-9407-40b8-8619-439d11663208",
   "metadata": {},
   "source": [
    "#### Q1. Explain Class and Object with respect to Object-Oriented Programming. Give a suitable example."
   ]
  },
  {
   "cell_type": "markdown",
   "id": "1bd9173d-3d48-473d-bf51-bdf74b34c9f8",
   "metadata": {},
   "source": [
    "ANSWER:\n",
    "\n",
    "CLASS: Class is a template or the blueprint for creating the object.It define all the attributes and methods that the object  of the class will have.\n",
    "\n",
    "OBJECT: Object is commonly known as the instance of the class . It is the entity which holds all the attributes and methods of the class.\n",
    "\n",
    "EXAMPLE: A class called student can consist the attributes such as std_id,std_name,std_marks and method such as print_details where as the object of the student class has the specific values for each and every attribute and method.\n",
    "\n",
    "Below is the coded version of the above example:\n",
    "\n",
    "\n"
   ]
  },
  {
   "cell_type": "code",
   "execution_count": 70,
   "id": "619df7b2-8a53-4d3c-bcfc-76d3f2091139",
   "metadata": {},
   "outputs": [],
   "source": [
    "#class \n",
    "class student:\n",
    "    #class method\n",
    "    def __init__(self,std_id,std_name,std_marks):\n",
    "        self.std_id = std_id\n",
    "        self.std_name = std_name\n",
    "        self.std_marks = std_marks\n",
    "    #class method    \n",
    "    def print_details(self):\n",
    "        return self.std_id,self.std_name,self.std_marks"
   ]
  },
  {
   "cell_type": "code",
   "execution_count": 71,
   "id": "5e67c8de-d39e-4ea3-8499-3a96c044b928",
   "metadata": {},
   "outputs": [],
   "source": [
    "std = student(123,\"mohini\",100) #object is created "
   ]
  },
  {
   "cell_type": "code",
   "execution_count": 72,
   "id": "e21ba285-03a5-45dc-8a30-eb2fff43b914",
   "metadata": {},
   "outputs": [
    {
     "data": {
      "text/plain": [
       "(123, 'mohini', 100)"
      ]
     },
     "execution_count": 72,
     "metadata": {},
     "output_type": "execute_result"
    }
   ],
   "source": [
    "std.print_details()"
   ]
  },
  {
   "cell_type": "markdown",
   "id": "d018d5fa-0f58-40e6-b7b8-04a77c810762",
   "metadata": {},
   "source": [
    "#### Q2. Name the four pillars of OOPs."
   ]
  },
  {
   "cell_type": "markdown",
   "id": "aff81a67-a253-4326-8e87-dbf5e072d3d7",
   "metadata": {},
   "source": [
    "ANSWER:\n",
    "\n",
    "The four pillers of OOPs are:\n",
    "\n",
    "\n",
    "1. Abstraction : \n",
    "Abstraction is the process of hiding the implementation details of an object from its users. Which allows users to focus only on the object functionality without having to worry about how it works.\n",
    "\n",
    "2. Encaplusation :\n",
    "Encapsulation is the practice of grouping together data and methods that are related to each other. This makes it easier for the user to manage the data and methods, and it also helps to protect the data from unauthorized access.\n",
    "\n",
    "\n",
    "3. Inheritance:\n",
    "Iheritance is the ability of one class to inherit the attributes and methods of another class. This allows you to reuse code and to create new classes that are based on existing classes.\n",
    "\n",
    "4. Polymorphism:\n",
    "Polymorphism is the ability of an object to take on different forms. This can be achieved through inheritance, method overloading, or method overriding.\n"
   ]
  },
  {
   "cell_type": "markdown",
   "id": "38f7a0fe-a32a-4460-912f-68d978fb8333",
   "metadata": {},
   "source": [
    "\n",
    "#### Q3. Explain why the __init__() function is used. Give a suitable example."
   ]
  },
  {
   "cell_type": "markdown",
   "id": "d747ad9a-d0bf-4d38-9347-636fb06e3cc9",
   "metadata": {},
   "source": [
    "Answer:\n",
    "\n",
    "__init__: the __init__ method which is also known as the constructor ,automatically invoked whenever the object of the class is created meaning we don't have to called this method explicitely.\n",
    "The __init__() method is used to assign values to the object instance variables or properties. It allows us to provide initial values to the object when it is created. \n",
    "\n",
    "Below is the coaded example to show the __init__ method"
   ]
  },
  {
   "cell_type": "code",
   "execution_count": 6,
   "id": "edeb1070-41d2-4e23-b83d-7ddc2220046c",
   "metadata": {},
   "outputs": [],
   "source": [
    "class vehicle:\n",
    "    #creating a init method which act as the constructor meaning it called when ever the object of the class is created\n",
    "    def __init__(self,name_of_vehicle,max_speed,average_of_vehicle):\n",
    "        print(\"i am a constructor\")\n",
    "        self.name_of_vehicle = name_of_vehicle\n",
    "        self.max_speed = max_speed\n",
    "        self.average_of_vehicle = average_of_vehicle\n",
    "    #creating a details method which is basically used to print the details given to the init method    \n",
    "    def details(self):\n",
    "        return  self.name_of_vehicle,self.max_speed, self.average_of_vehicle"
   ]
  },
  {
   "cell_type": "code",
   "execution_count": 9,
   "id": "67087cbe-53a1-49b7-a81b-bc6194a69b32",
   "metadata": {},
   "outputs": [
    {
     "name": "stdout",
     "output_type": "stream",
     "text": [
      "i am a constructor\n"
     ]
    }
   ],
   "source": [
    "v = vehicle(\"honda\",\"235 km/h\",200) # here the time at which object is create the __init__ method invoke automatically and print the below ans"
   ]
  },
  {
   "cell_type": "markdown",
   "id": "b35296ef-f73f-4c28-82cf-8cdf99b09387",
   "metadata": {},
   "source": [
    "#### Q4. Why self is used in OOPs?"
   ]
  },
  {
   "cell_type": "markdown",
   "id": "5cfbe809-2c75-4de3-9613-072fdf8d999f",
   "metadata": {},
   "source": [
    "ANSWER:\n",
    "\n",
    "\n",
    "In Python, self is a special keyword that is used to refer to the current object in a method. It is used to access the object's attributes and methods.\n",
    "\n",
    "OTHER REASONS WHY SELF IS USED:\n",
    "\n",
    "Accessing Instance Variables: By using self, we can access the instance variables (attributes) of the class within its methods which allows the user to distinguish between the instance variables and local variables or parameters of a method.\n",
    "\n",
    "\n",
    "Method Invocation: When a method is called on an instance of a class, the instance itself is automatically passed as the first argument to the method. By convention, this argument is named self. It allows the method to operate on the specific instance it was called upon.\n",
    "\n",
    "\n",
    "Scope Resolution: self helps to resolve the scope of variables and methods within a class. It indicates that the variable or method belongs to the instance of the class and not to the class itself or any other external scope."
   ]
  },
  {
   "cell_type": "markdown",
   "id": "22a5cbb4-d725-403f-8c78-b6879fa8ad97",
   "metadata": {},
   "source": [
    "#### Q5. What is inheritance? Give an example for each type of inheritance."
   ]
  },
  {
   "cell_type": "markdown",
   "id": "b7676de5-7aea-4ce7-b8c3-471870ac613c",
   "metadata": {},
   "source": [
    "INHERITANCE : It's simply means deriving the properties from one class to another class.This allows the user to reuse code and to create new classes that are based on existing classes.\n",
    "\n",
    "Types:\n",
    "\n",
    "1: Single level inheritance: Here a single child class inherit the property of it's parent class . Example is shown below\n"
   ]
  },
  {
   "cell_type": "code",
   "execution_count": 14,
   "id": "e2d97c92-04a3-4277-abe2-a0b52faeb272",
   "metadata": {},
   "outputs": [],
   "source": [
    "class test1():\n",
    "    def met1(self):\n",
    "        return \"parent class test1\"\n",
    "class test2(test1):\n",
    "    def met2(self):\n",
    "        return \"child class test2\""
   ]
  },
  {
   "cell_type": "code",
   "execution_count": 21,
   "id": "48c2cabf-afa3-4221-8a28-849e3dfa1de1",
   "metadata": {},
   "outputs": [],
   "source": [
    "t2 = test2() #object of child class "
   ]
  },
  {
   "cell_type": "code",
   "execution_count": 22,
   "id": "b6972077-24fc-407b-8f87-6a70de74d2eb",
   "metadata": {},
   "outputs": [
    {
     "data": {
      "text/plain": [
       "'parent class test1'"
      ]
     },
     "execution_count": 22,
     "metadata": {},
     "output_type": "execute_result"
    }
   ],
   "source": [
    "t2.met1()  #inheriting the property of parent class"
   ]
  },
  {
   "cell_type": "code",
   "execution_count": 23,
   "id": "a207a124-4f70-458f-80e9-63c042a355d8",
   "metadata": {},
   "outputs": [
    {
     "data": {
      "text/plain": [
       "'child class test2'"
      ]
     },
     "execution_count": 23,
     "metadata": {},
     "output_type": "execute_result"
    }
   ],
   "source": [
    "t2.met2()"
   ]
  },
  {
   "cell_type": "markdown",
   "id": "f8b7c2f5-b9d4-4c46-8280-e674a1e025eb",
   "metadata": {},
   "source": [
    "2.Multilevel:It involves deriving a subclass from another subclass, creating a hierarchy of classes. Example is shown below"
   ]
  },
  {
   "cell_type": "code",
   "execution_count": 24,
   "id": "0b6fba3f-4e0b-47d3-86d7-17126d5c4706",
   "metadata": {},
   "outputs": [],
   "source": [
    "class test1():\n",
    "    def met1(self):\n",
    "        return \"parent class test1\"\n",
    "class test2(test1): #deriving the properties of test1\n",
    "    def met2(self):\n",
    "        return \"class test2\"\n",
    "class test3(test2): #deriving the properties of test2\n",
    "    def met3(self):\n",
    "        return \"class test3\""
   ]
  },
  {
   "cell_type": "code",
   "execution_count": 26,
   "id": "df8429ad-905d-4412-b450-06b137ab2a27",
   "metadata": {},
   "outputs": [],
   "source": [
    "t3 = test3() # here test3 can inherit all the properties of class test1 and test2"
   ]
  },
  {
   "cell_type": "code",
   "execution_count": 27,
   "id": "ca072449-ee42-4cd4-a2fc-f7315ae871cf",
   "metadata": {},
   "outputs": [
    {
     "data": {
      "text/plain": [
       "'parent class test1'"
      ]
     },
     "execution_count": 27,
     "metadata": {},
     "output_type": "execute_result"
    }
   ],
   "source": [
    "t3.met1()\n"
   ]
  },
  {
   "cell_type": "code",
   "execution_count": 28,
   "id": "5cf5a1b3-aafc-4c50-93f7-5657b4fb08ca",
   "metadata": {},
   "outputs": [
    {
     "data": {
      "text/plain": [
       "'class test2'"
      ]
     },
     "execution_count": 28,
     "metadata": {},
     "output_type": "execute_result"
    }
   ],
   "source": [
    "t3.met2()"
   ]
  },
  {
   "cell_type": "code",
   "execution_count": 29,
   "id": "88e01408-221d-4d78-b23e-a7b21722723d",
   "metadata": {},
   "outputs": [
    {
     "data": {
      "text/plain": [
       "'class test3'"
      ]
     },
     "execution_count": 29,
     "metadata": {},
     "output_type": "execute_result"
    }
   ],
   "source": [
    "t3.met3()"
   ]
  },
  {
   "cell_type": "code",
   "execution_count": 30,
   "id": "e2f96db2-6a6e-4fa6-ad3b-1cc18aff9702",
   "metadata": {},
   "outputs": [],
   "source": [
    "t2 = test2() # here test2 can inherit all the properties of class test1 only"
   ]
  },
  {
   "cell_type": "code",
   "execution_count": 31,
   "id": "73f53196-6f43-4a53-b24a-a86bf71bafc5",
   "metadata": {},
   "outputs": [
    {
     "data": {
      "text/plain": [
       "'parent class test1'"
      ]
     },
     "execution_count": 31,
     "metadata": {},
     "output_type": "execute_result"
    }
   ],
   "source": [
    "t2.met1()\n"
   ]
  },
  {
   "cell_type": "code",
   "execution_count": 32,
   "id": "75e8a556-cbbc-4b60-b51d-6cf03a7eb2ac",
   "metadata": {},
   "outputs": [
    {
     "data": {
      "text/plain": [
       "'class test2'"
      ]
     },
     "execution_count": 32,
     "metadata": {},
     "output_type": "execute_result"
    }
   ],
   "source": [
    "t2.met2()"
   ]
  },
  {
   "cell_type": "markdown",
   "id": "b0458a8b-cb5d-461b-b8cb-659b72c7cfcc",
   "metadata": {},
   "source": [
    "3.Multiple inheritance: Multiple inheritance allows a subclass to inherit from multiple superclasses. The subclass can access the attributes and methods of all the parent classes..Example is shown below"
   ]
  },
  {
   "cell_type": "code",
   "execution_count": 36,
   "id": "17c4d49b-bcc0-4dc3-9487-467548de67be",
   "metadata": {},
   "outputs": [],
   "source": [
    "class test1():\n",
    "    def met1(self):\n",
    "        return \"parent class test1\"\n",
    "class test2(): #deriving the properties of test1\n",
    "    def met2(self):\n",
    "        return \"class test2\"\n",
    "class test3(test2,test1): #deriving the properties of test2\n",
    "    def met3(self):\n",
    "        return \"class test3\""
   ]
  },
  {
   "cell_type": "code",
   "execution_count": 37,
   "id": "9aaec9ad-7e8d-4942-a74d-839a70bbcfcb",
   "metadata": {},
   "outputs": [],
   "source": [
    "t3 = test3() # here test3 can derive the prperties of the class test1 and test2"
   ]
  },
  {
   "cell_type": "code",
   "execution_count": 38,
   "id": "deb13ab4-1674-4b94-9dc5-1b4ed5129a55",
   "metadata": {},
   "outputs": [
    {
     "data": {
      "text/plain": [
       "'parent class test1'"
      ]
     },
     "execution_count": 38,
     "metadata": {},
     "output_type": "execute_result"
    }
   ],
   "source": [
    "t3.met1()"
   ]
  },
  {
   "cell_type": "code",
   "execution_count": 39,
   "id": "954bef26-3bba-4753-9ec8-1019959fa695",
   "metadata": {},
   "outputs": [
    {
     "data": {
      "text/plain": [
       "'class test2'"
      ]
     },
     "execution_count": 39,
     "metadata": {},
     "output_type": "execute_result"
    }
   ],
   "source": [
    "t3.met2()"
   ]
  },
  {
   "cell_type": "code",
   "execution_count": 40,
   "id": "acf0f6bb-9e8e-4fde-860f-7658ce08e0e3",
   "metadata": {},
   "outputs": [
    {
     "data": {
      "text/plain": [
       "'class test3'"
      ]
     },
     "execution_count": 40,
     "metadata": {},
     "output_type": "execute_result"
    }
   ],
   "source": [
    "t3.met3()"
   ]
  },
  {
   "cell_type": "markdown",
   "id": "edc6cd77-dcf0-4c13-b520-82eae726fa37",
   "metadata": {},
   "source": [
    "4. Hierarchical Inheritance: Hierarchical inheritance occurs when multiple subclasses inherit from a single superclass. Each subclass has its own unique characteristics in addition to the inherited attributes and methods.Example is shoen below."
   ]
  },
  {
   "cell_type": "code",
   "execution_count": 42,
   "id": "8783fc52-57bc-429d-a24f-d0fb032a8e6a",
   "metadata": {},
   "outputs": [],
   "source": [
    "class test1():\n",
    "    def met1(self):\n",
    "        return \"parent class test1\"\n",
    "class test2(test1): #deriving the properties of test1\n",
    "    def met2(self):\n",
    "        return \"class test2\"\n",
    "class test3(test1): #deriving the properties of test2\n",
    "    def met3(self):\n",
    "        return \"class test3\""
   ]
  },
  {
   "cell_type": "code",
   "execution_count": 43,
   "id": "e7113bef-69b8-441b-bb5b-8a3ac06a73f9",
   "metadata": {},
   "outputs": [],
   "source": [
    "t2 = test2() #deriving the properties of class test1"
   ]
  },
  {
   "cell_type": "code",
   "execution_count": 44,
   "id": "7d79bdf1-e956-4147-9d20-fa83fd5e2e96",
   "metadata": {},
   "outputs": [
    {
     "data": {
      "text/plain": [
       "'parent class test1'"
      ]
     },
     "execution_count": 44,
     "metadata": {},
     "output_type": "execute_result"
    }
   ],
   "source": [
    "t2.met1()\n"
   ]
  },
  {
   "cell_type": "code",
   "execution_count": 45,
   "id": "497631f7-3bd2-4612-8524-4ddf9ba59c5f",
   "metadata": {},
   "outputs": [
    {
     "data": {
      "text/plain": [
       "'class test2'"
      ]
     },
     "execution_count": 45,
     "metadata": {},
     "output_type": "execute_result"
    }
   ],
   "source": [
    "t2.met2()"
   ]
  },
  {
   "cell_type": "code",
   "execution_count": 49,
   "id": "aa9fe269-c97a-47e0-a2db-75227d59b8ba",
   "metadata": {},
   "outputs": [],
   "source": [
    "t3 = test3() #seriving the properties of class test1"
   ]
  },
  {
   "cell_type": "code",
   "execution_count": 47,
   "id": "e3eb5b96-bdbe-4e6a-b92d-65e1f7ec6a6f",
   "metadata": {},
   "outputs": [
    {
     "data": {
      "text/plain": [
       "'parent class test1'"
      ]
     },
     "execution_count": 47,
     "metadata": {},
     "output_type": "execute_result"
    }
   ],
   "source": [
    "t3.met1()"
   ]
  },
  {
   "cell_type": "code",
   "execution_count": 48,
   "id": "8f9b4370-714a-44c2-9a71-0e4bc2bb4055",
   "metadata": {},
   "outputs": [
    {
     "data": {
      "text/plain": [
       "'class test3'"
      ]
     },
     "execution_count": 48,
     "metadata": {},
     "output_type": "execute_result"
    }
   ],
   "source": [
    "t3.met3()"
   ]
  },
  {
   "cell_type": "markdown",
   "id": "543a739b-b303-45de-9746-fa2298b25749",
   "metadata": {},
   "source": [
    "5.Hybrid inheritance: is a combination of multiple types of inheritance, such as single inheritance and multiple inheritance. It allows a class to inherit from multiple classes, including both superclass and subclass relationships. Example is shown below."
   ]
  },
  {
   "cell_type": "code",
   "execution_count": 51,
   "id": "cd73dbb3-0a2d-45cd-b3ee-9a68b87016b8",
   "metadata": {},
   "outputs": [],
   "source": [
    "class test1():\n",
    "    def met1(self):\n",
    "        return \"parent class test1\"\n",
    "class test2():\n",
    "    def met2(self):\n",
    "        return \"class test2\"\n",
    "class test3(test1): #deriving the properties of test1\n",
    "    def met3(self):\n",
    "        return \"class test3\"\n",
    "class test4(test1,test2): #deriving the properties of test1,test2\n",
    "    def met4(self):\n",
    "        return \"class test4\""
   ]
  },
  {
   "cell_type": "code",
   "execution_count": 65,
   "id": "c8559dd5-8c42-4acb-a307-b9c71812e4c1",
   "metadata": {},
   "outputs": [],
   "source": [
    "t1 = test1() #only access its own class method"
   ]
  },
  {
   "cell_type": "code",
   "execution_count": 66,
   "id": "8db7ad0a-b238-486f-ad82-c1ab53819555",
   "metadata": {},
   "outputs": [
    {
     "data": {
      "text/plain": [
       "'parent class test1'"
      ]
     },
     "execution_count": 66,
     "metadata": {},
     "output_type": "execute_result"
    }
   ],
   "source": [
    "t1.met1()"
   ]
  },
  {
   "cell_type": "code",
   "execution_count": 67,
   "id": "4c4c9990-7243-47ed-aa65-8c99fa1d5630",
   "metadata": {},
   "outputs": [],
   "source": [
    "t2 = test2() #only access its own class method"
   ]
  },
  {
   "cell_type": "code",
   "execution_count": 55,
   "id": "6dc28b05-cb3e-44e4-8b76-e8ef360d9c3b",
   "metadata": {},
   "outputs": [
    {
     "data": {
      "text/plain": [
       "'class test2'"
      ]
     },
     "execution_count": 55,
     "metadata": {},
     "output_type": "execute_result"
    }
   ],
   "source": [
    "t2.met2()"
   ]
  },
  {
   "cell_type": "code",
   "execution_count": 68,
   "id": "4e523902-902a-4cfd-ad6f-e6d1e4959096",
   "metadata": {},
   "outputs": [],
   "source": [
    "t3 =test3() # access its own class method as well as class test1 methods"
   ]
  },
  {
   "cell_type": "code",
   "execution_count": 57,
   "id": "5f94d8b0-e1b3-4b9b-8c75-bf032c091919",
   "metadata": {},
   "outputs": [
    {
     "data": {
      "text/plain": [
       "'parent class test1'"
      ]
     },
     "execution_count": 57,
     "metadata": {},
     "output_type": "execute_result"
    }
   ],
   "source": [
    "t3.met1()"
   ]
  },
  {
   "cell_type": "code",
   "execution_count": 58,
   "id": "dc95201c-e4af-46a6-87fd-b074f9b19b0a",
   "metadata": {},
   "outputs": [
    {
     "data": {
      "text/plain": [
       "'class test3'"
      ]
     },
     "execution_count": 58,
     "metadata": {},
     "output_type": "execute_result"
    }
   ],
   "source": [
    "t3.met3()"
   ]
  },
  {
   "cell_type": "code",
   "execution_count": 69,
   "id": "e2e7cd49-e302-46ca-b1de-ebb514c3e058",
   "metadata": {},
   "outputs": [],
   "source": [
    "t4 = test4() # access its own class method as well as class test1 methods and class test2 methods"
   ]
  },
  {
   "cell_type": "code",
   "execution_count": 60,
   "id": "41025950-48a7-4a7b-b817-57333d156522",
   "metadata": {},
   "outputs": [
    {
     "data": {
      "text/plain": [
       "'parent class test1'"
      ]
     },
     "execution_count": 60,
     "metadata": {},
     "output_type": "execute_result"
    }
   ],
   "source": [
    "t4.met1()\n"
   ]
  },
  {
   "cell_type": "code",
   "execution_count": 62,
   "id": "e4458b0e-593f-45fc-bd3e-70338ffad824",
   "metadata": {},
   "outputs": [
    {
     "data": {
      "text/plain": [
       "'class test2'"
      ]
     },
     "execution_count": 62,
     "metadata": {},
     "output_type": "execute_result"
    }
   ],
   "source": [
    "t4.met2()"
   ]
  },
  {
   "cell_type": "code",
   "execution_count": 64,
   "id": "ab65e639-d906-4164-9d71-f6e7b2c55e70",
   "metadata": {},
   "outputs": [
    {
     "data": {
      "text/plain": [
       "'class test4'"
      ]
     },
     "execution_count": 64,
     "metadata": {},
     "output_type": "execute_result"
    }
   ],
   "source": [
    "t4.met4()"
   ]
  },
  {
   "cell_type": "code",
   "execution_count": null,
   "id": "ba32b76a-da19-48d9-8965-025c028f2ede",
   "metadata": {},
   "outputs": [],
   "source": []
  }
 ],
 "metadata": {
  "kernelspec": {
   "display_name": "Python 3 (ipykernel)",
   "language": "python",
   "name": "python3"
  },
  "language_info": {
   "codemirror_mode": {
    "name": "ipython",
    "version": 3
   },
   "file_extension": ".py",
   "mimetype": "text/x-python",
   "name": "python",
   "nbconvert_exporter": "python",
   "pygments_lexer": "ipython3",
   "version": "3.10.8"
  }
 },
 "nbformat": 4,
 "nbformat_minor": 5
}
