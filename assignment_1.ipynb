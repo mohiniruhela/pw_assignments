{
 "cells": [
  {
   "cell_type": "markdown",
   "id": "ace93bc1-6624-4a9f-bb34-ffcbe2cae581",
   "metadata": {},
   "source": [
    "#### Q1. Create one variable containing following type of data:\n",
    "\n",
    "#### (i)\tstring\n"
   ]
  },
  {
   "cell_type": "code",
   "execution_count": 1,
   "id": "20642fdf-11d1-4882-b1a0-e0178fd03107",
   "metadata": {},
   "outputs": [],
   "source": [
    "a = \"hello world\""
   ]
  },
  {
   "cell_type": "code",
   "execution_count": 2,
   "id": "a4515540-3465-4a02-9a0a-9f932ebb56ef",
   "metadata": {},
   "outputs": [
    {
     "data": {
      "text/plain": [
       "'hello world'"
      ]
     },
     "execution_count": 2,
     "metadata": {},
     "output_type": "execute_result"
    }
   ],
   "source": [
    "a #variable a hold the string value hello world"
   ]
  },
  {
   "cell_type": "markdown",
   "id": "0802e354-51d2-48f0-acc5-d01c8648bdae",
   "metadata": {},
   "source": [
    "#### (ii)\tlist\n",
    "\n"
   ]
  },
  {
   "cell_type": "code",
   "execution_count": 3,
   "id": "f67d86f0-c5c1-4947-8509-16dac81c488b",
   "metadata": {},
   "outputs": [],
   "source": [
    "b = [1,2,3,45.6,\"pwskills\",True,[1,2,3,4]]"
   ]
  },
  {
   "cell_type": "code",
   "execution_count": 4,
   "id": "85608bf6-70d6-4816-9df1-b0ea0b878472",
   "metadata": {},
   "outputs": [
    {
     "data": {
      "text/plain": [
       "[1, 2, 3, 45.6, 'pwskills', True, [1, 2, 3, 4]]"
      ]
     },
     "execution_count": 4,
     "metadata": {},
     "output_type": "execute_result"
    }
   ],
   "source": [
    "b #variable b hold the elements of a list of different data types"
   ]
  },
  {
   "cell_type": "markdown",
   "id": "8e47b9cd-fb79-4592-8188-23748cbc076b",
   "metadata": {},
   "source": [
    "\n",
    "#### (iii)\tfloat\n",
    "\n"
   ]
  },
  {
   "cell_type": "code",
   "execution_count": 5,
   "id": "5c2fed8f-c2d9-477b-9fb6-ac08ec177753",
   "metadata": {},
   "outputs": [],
   "source": [
    "c = 123.4"
   ]
  },
  {
   "cell_type": "code",
   "execution_count": 6,
   "id": "3dfbc5eb-3160-4922-bd45-ca0c94cca428",
   "metadata": {},
   "outputs": [
    {
     "data": {
      "text/plain": [
       "123.4"
      ]
     },
     "execution_count": 6,
     "metadata": {},
     "output_type": "execute_result"
    }
   ],
   "source": [
    "c # variable c hold the floating point digit (digits that contains decimal)"
   ]
  },
  {
   "cell_type": "markdown",
   "id": "887e40ab-03d8-4fc4-838a-a2445760b949",
   "metadata": {},
   "source": [
    "#### (iv)\ttuple"
   ]
  },
  {
   "cell_type": "code",
   "execution_count": 7,
   "id": "d1698414-07e5-4e57-b18f-36a20ac23396",
   "metadata": {},
   "outputs": [],
   "source": [
    "d =(1,2,3,45.6,\"pwskills\",True,[1,2,3,4]) "
   ]
  },
  {
   "cell_type": "code",
   "execution_count": 8,
   "id": "808b1fe1-eae4-4d0a-a964-a71f9b3d770a",
   "metadata": {},
   "outputs": [
    {
     "data": {
      "text/plain": [
       "(1, 2, 3, 45.6, 'pwskills', True, [1, 2, 3, 4])"
      ]
     },
     "execution_count": 8,
     "metadata": {},
     "output_type": "execute_result"
    }
   ],
   "source": [
    "d # variable d holds the elements of a tuple"
   ]
  },
  {
   "cell_type": "markdown",
   "id": "64edf9b8-59ac-43dc-bb99-f558a74cc676",
   "metadata": {},
   "source": [
    "#### Q2. Given are some following variables containing data:(i)\tvar1 = ‘ ‘ (ii)\tvar2 = ‘[ DS , ML , Python]’ (iii)\tvar3 = [ ‘DS’ , ’ML’ , ‘Python’ ] (iv)\tvar4 = 1 What will be the data type of the above given variable.\n",
    "\n",
    "answer---\n",
    "i)  String\n",
    "ii) String\n",
    "iii)List\n",
    "iv) Integer"
   ]
  },
  {
   "cell_type": "markdown",
   "id": "18445711-c602-4fda-9b65-076b2ddda6fc",
   "metadata": {},
   "source": [
    "#### Q3. Explain the use of the following operators using an example: (i)\t/ (ii)\t%  (iii)\t// (iv)\t**\n",
    "\n",
    "answer---\n",
    "i) / -- this is a division operator which is used to divide two numbers and it return the quotient as a floating point number\n",
    "For example."
   ]
  },
  {
   "cell_type": "code",
   "execution_count": 9,
   "id": "b2db776c-b86d-4639-af94-2fca258d5f13",
   "metadata": {},
   "outputs": [
    {
     "data": {
      "text/plain": [
       "2.5"
      ]
     },
     "execution_count": 9,
     "metadata": {},
     "output_type": "execute_result"
    }
   ],
   "source": [
    "5/2 # it returns 2.5 as quotient , a floating point number"
   ]
  },
  {
   "cell_type": "markdown",
   "id": "54001544-38ea-49ea-aa45-2d069639bc8a",
   "metadata": {},
   "source": [
    "ii) % -- this is a modulus operator which divides two numbers and return remainder as the final answer.\n",
    "For Example."
   ]
  },
  {
   "cell_type": "code",
   "execution_count": 10,
   "id": "521f837a-e4d2-4a5a-b393-b534929daf83",
   "metadata": {},
   "outputs": [
    {
     "data": {
      "text/plain": [
       "1"
      ]
     },
     "execution_count": 10,
     "metadata": {},
     "output_type": "execute_result"
    }
   ],
   "source": [
    "5%2 # return 1 as the remainder"
   ]
  },
  {
   "cell_type": "markdown",
   "id": "9996017a-6b7b-4fc7-a1d7-d3673ef87fda",
   "metadata": {},
   "source": [
    "iii) // -- this is a floor division operator used to divide two numbers and return the quotient as a integer\n",
    "For Example."
   ]
  },
  {
   "cell_type": "code",
   "execution_count": 11,
   "id": "f9d6ebce-f005-4bc1-9e72-9f19d32ce101",
   "metadata": {},
   "outputs": [
    {
     "data": {
      "text/plain": [
       "2"
      ]
     },
     "execution_count": 11,
     "metadata": {},
     "output_type": "execute_result"
    }
   ],
   "source": [
    "5//2 # return 2 as the quotient"
   ]
  },
  {
   "cell_type": "markdown",
   "id": "239f332f-c781-4a29-bfb3-d99e3c056620",
   "metadata": {},
   "source": [
    "iv) ** -- this is a exponential operator used to find the power of certain number.\n",
    "For Example."
   ]
  },
  {
   "cell_type": "code",
   "execution_count": 12,
   "id": "372202b3-7b72-4de6-bce5-b95cd9db919c",
   "metadata": {},
   "outputs": [
    {
     "data": {
      "text/plain": [
       "8"
      ]
     },
     "execution_count": 12,
     "metadata": {},
     "output_type": "execute_result"
    }
   ],
   "source": [
    "2**3 # return 8 as the power os 2*2*2"
   ]
  },
  {
   "cell_type": "markdown",
   "id": "27309267-b8aa-4246-b967-afca074e0555",
   "metadata": {},
   "source": [
    "#### Q4. Create a list of length 10 of your choice containing multiple types of data. Using for loop print the element and its data type."
   ]
  },
  {
   "cell_type": "code",
   "execution_count": 13,
   "id": "cb680e73-843f-4f0c-bb46-6ffb64a63073",
   "metadata": {},
   "outputs": [],
   "source": [
    "l = [1,2,3,4,\"pwskill\",23.4,[10,20,30],True,False,\"coding\"]"
   ]
  },
  {
   "cell_type": "code",
   "execution_count": 14,
   "id": "1b72c052-0347-4ba5-8895-a626d3a798cd",
   "metadata": {},
   "outputs": [
    {
     "data": {
      "text/plain": [
       "10"
      ]
     },
     "execution_count": 14,
     "metadata": {},
     "output_type": "execute_result"
    }
   ],
   "source": [
    "len(l)"
   ]
  },
  {
   "cell_type": "code",
   "execution_count": 15,
   "id": "c7aafe6c-1180-4825-9e64-d58fe4c908ea",
   "metadata": {},
   "outputs": [
    {
     "name": "stdout",
     "output_type": "stream",
     "text": [
      "elements with their datatype are:\n",
      "\n",
      "element-- 1 --datatype = <class 'int'> \n",
      "\n",
      "element-- 2 --datatype = <class 'int'> \n",
      "\n",
      "element-- 3 --datatype = <class 'int'> \n",
      "\n",
      "element-- 4 --datatype = <class 'int'> \n",
      "\n",
      "element-- pwskill --datatype = <class 'str'> \n",
      "\n",
      "element-- 23.4 --datatype = <class 'float'> \n",
      "\n",
      "element-- [10, 20, 30] --datatype = <class 'list'> \n",
      "\n",
      "element-- True --datatype = <class 'bool'> \n",
      "\n",
      "element-- False --datatype = <class 'bool'> \n",
      "\n",
      "element-- coding --datatype = <class 'str'> \n",
      "\n"
     ]
    }
   ],
   "source": [
    "print(\"elements with their datatype are:\\n\")\n",
    "for i in l:\n",
    "    print(f'element-- {i} --datatype = {type(i)} \\n')"
   ]
  },
  {
   "cell_type": "markdown",
   "id": "9bbf912b-095a-4187-8c17-bdb5195ea5fb",
   "metadata": {},
   "source": [
    "#### Q5. Using a while loop, verify if the number A is purely divisible by number B and if so then how many times it can be divisible."
   ]
  },
  {
   "cell_type": "code",
   "execution_count": 11,
   "id": "4f87d681-3d22-41d9-80f8-0bbf9e15485c",
   "metadata": {},
   "outputs": [
    {
     "name": "stdin",
     "output_type": "stream",
     "text": [
      "enter the number a: 3\n",
      "enter the number b: 2\n"
     ]
    },
    {
     "name": "stdout",
     "output_type": "stream",
     "text": [
      "3 divide by 2 count is 0\n"
     ]
    }
   ],
   "source": [
    "a = int(input(\"enter the number a:\"))\n",
    "b = int(input(\"enter the number b:\"))\n",
    "count = 0\n",
    "x = a\n",
    "y = b\n",
    "while(a%b==0):\n",
    "    r = a // b\n",
    "    a = r\n",
    "    count+=1\n",
    "else:\n",
    "    print(f'{x} divide by {y} count is {count}')"
   ]
  },
  {
   "cell_type": "markdown",
   "id": "0b1e807a-890c-4807-a5dc-b67c4727660e",
   "metadata": {},
   "source": [
    "####  Create a list containing 25 int type data. Using for loop and if-else condition print if the element is divisible by 3 or not."
   ]
  },
  {
   "cell_type": "code",
   "execution_count": 33,
   "id": "06e499d4-c265-41f4-ada7-a5fa0e00fdd0",
   "metadata": {},
   "outputs": [
    {
     "name": "stdin",
     "output_type": "stream",
     "text": [
      "Enter element 1:  1\n",
      "Enter element 2:  2\n",
      "Enter element 3:  3\n"
     ]
    },
    {
     "name": "stdout",
     "output_type": "stream",
     "text": [
      "*******************3 is divided by 3\n"
     ]
    },
    {
     "name": "stdin",
     "output_type": "stream",
     "text": [
      "Enter element 4:  4\n",
      "Enter element 5:  5\n",
      "Enter element 6:  6\n"
     ]
    },
    {
     "name": "stdout",
     "output_type": "stream",
     "text": [
      "*******************6 is divided by 3\n"
     ]
    },
    {
     "name": "stdin",
     "output_type": "stream",
     "text": [
      "Enter element 7:  7\n",
      "Enter element 8:  8\n",
      "Enter element 9:  9\n"
     ]
    },
    {
     "name": "stdout",
     "output_type": "stream",
     "text": [
      "*******************9 is divided by 3\n"
     ]
    },
    {
     "name": "stdin",
     "output_type": "stream",
     "text": [
      "Enter element 10:  10\n",
      "Enter element 11:  11\n",
      "Enter element 12:  12\n"
     ]
    },
    {
     "name": "stdout",
     "output_type": "stream",
     "text": [
      "*******************12 is divided by 3\n"
     ]
    },
    {
     "name": "stdin",
     "output_type": "stream",
     "text": [
      "Enter element 13:  13\n",
      "Enter element 14:  14\n",
      "Enter element 15:  15\n"
     ]
    },
    {
     "name": "stdout",
     "output_type": "stream",
     "text": [
      "*******************15 is divided by 3\n"
     ]
    },
    {
     "name": "stdin",
     "output_type": "stream",
     "text": [
      "Enter element 16:  16\n",
      "Enter element 17:  17\n",
      "Enter element 18:  18\n"
     ]
    },
    {
     "name": "stdout",
     "output_type": "stream",
     "text": [
      "*******************18 is divided by 3\n"
     ]
    },
    {
     "name": "stdin",
     "output_type": "stream",
     "text": [
      "Enter element 19:  19\n",
      "Enter element 20:  20\n",
      "Enter element 21:  21\n"
     ]
    },
    {
     "name": "stdout",
     "output_type": "stream",
     "text": [
      "*******************21 is divided by 3\n"
     ]
    },
    {
     "name": "stdin",
     "output_type": "stream",
     "text": [
      "Enter element 22:  22\n",
      "Enter element 23:  23\n",
      "Enter element 24:  24\n"
     ]
    },
    {
     "name": "stdout",
     "output_type": "stream",
     "text": [
      "*******************24 is divided by 3\n"
     ]
    },
    {
     "name": "stdin",
     "output_type": "stream",
     "text": [
      "Enter element 25:  25\n"
     ]
    },
    {
     "name": "stdout",
     "output_type": "stream",
     "text": [
      "The elements in the list are: [1, 2, 3, 4, 5, 6, 7, 8, 9, 10, 11, 12, 13, 14, 15, 16, 17, 18, 19, 20, 21, 22, 23, 24, 25]\n"
     ]
    }
   ],
   "source": [
    "l = []\n",
    "e = 25\n",
    "for i in range(e):\n",
    "    x = int(input(\"Enter element {}: \".format(i+1)))\n",
    "    if(x%3==0):\n",
    "        print(f'*******************{x} is divided by 3')\n",
    "    l.append(x)  # for adding the element to the list\n",
    "\n",
    "print(\"The elements in the list are:\", l)\n",
    "   "
   ]
  },
  {
   "cell_type": "markdown",
   "id": "6ef3040f-c7ec-463a-9ae1-c7d6df22dcf1",
   "metadata": {},
   "source": [
    "#### Q7. What do you understand about mutable and immutable data types? Give examples for both showing this property.\n",
    "\n",
    "Mutable datatype: they are those datatypes in which we can change the elements at the particular indexe.\n",
    "For Example : List comes under this because we can change its elements at the particular indexes and this can be shown below."
   ]
  },
  {
   "cell_type": "code",
   "execution_count": 34,
   "id": "847c86ac-6de0-4321-a6e6-50ae88bf6559",
   "metadata": {},
   "outputs": [],
   "source": [
    "l = [1,2,3,4]"
   ]
  },
  {
   "cell_type": "code",
   "execution_count": 35,
   "id": "b295f9fd-0bf5-4ba4-8d16-235cadc46dd4",
   "metadata": {},
   "outputs": [],
   "source": [
    "l[0] = 100"
   ]
  },
  {
   "cell_type": "code",
   "execution_count": 37,
   "id": "0aee7c4f-c047-4a11-a028-c0b9698d28b6",
   "metadata": {},
   "outputs": [
    {
     "data": {
      "text/plain": [
       "[100, 2, 3, 4]"
      ]
     },
     "execution_count": 37,
     "metadata": {},
     "output_type": "execute_result"
    }
   ],
   "source": [
    "l #here the element at index zero is changes from 1 to 100"
   ]
  },
  {
   "cell_type": "markdown",
   "id": "ca648242-19f8-45c4-8372-eb1a60c7ec7e",
   "metadata": {},
   "source": [
    "Immutable Datatype: They are those data types whose elements do not change at the particular index.\n",
    "For Example: String comes under this because we cannot change is characters in between and this can be shown below.\n"
   ]
  },
  {
   "cell_type": "code",
   "execution_count": 38,
   "id": "955d9f58-4895-4f1b-ab5c-424c89043eda",
   "metadata": {},
   "outputs": [],
   "source": [
    "s = \"pwskills\""
   ]
  },
  {
   "cell_type": "code",
   "execution_count": 41,
   "id": "f7d98560-5e4b-4900-af64-2573b7c7978e",
   "metadata": {},
   "outputs": [
    {
     "data": {
      "text/plain": [
       "'s'"
      ]
     },
     "execution_count": 41,
     "metadata": {},
     "output_type": "execute_result"
    }
   ],
   "source": [
    "s[2] # we can access the character in string"
   ]
  },
  {
   "cell_type": "code",
   "execution_count": 42,
   "id": "6007632d-856a-4776-a578-0196357da025",
   "metadata": {},
   "outputs": [
    {
     "ename": "TypeError",
     "evalue": "'str' object does not support item assignment",
     "output_type": "error",
     "traceback": [
      "\u001b[0;31m---------------------------------------------------------------------------\u001b[0m",
      "\u001b[0;31mTypeError\u001b[0m                                 Traceback (most recent call last)",
      "Cell \u001b[0;32mIn[42], line 1\u001b[0m\n\u001b[0;32m----> 1\u001b[0m \u001b[43ms\u001b[49m\u001b[43m[\u001b[49m\u001b[38;5;241;43m2\u001b[39;49m\u001b[43m]\u001b[49m \u001b[38;5;241m=\u001b[39m \u001b[38;5;124m'\u001b[39m\u001b[38;5;124mx\u001b[39m\u001b[38;5;124m'\u001b[39m \u001b[38;5;66;03m# but can't change the character as shown by the following line of code\u001b[39;00m\n",
      "\u001b[0;31mTypeError\u001b[0m: 'str' object does not support item assignment"
     ]
    }
   ],
   "source": [
    "s[2] = 'x' # but can't change the character as shown by the following line of code\n"
   ]
  },
  {
   "cell_type": "code",
   "execution_count": null,
   "id": "86150f11-ccc3-4e10-9d2b-914db2eee4b7",
   "metadata": {},
   "outputs": [],
   "source": []
  }
 ],
 "metadata": {
  "kernelspec": {
   "display_name": "Python 3 (ipykernel)",
   "language": "python",
   "name": "python3"
  },
  "language_info": {
   "codemirror_mode": {
    "name": "ipython",
    "version": 3
   },
   "file_extension": ".py",
   "mimetype": "text/x-python",
   "name": "python",
   "nbconvert_exporter": "python",
   "pygments_lexer": "ipython3",
   "version": "3.10.8"
  }
 },
 "nbformat": 4,
 "nbformat_minor": 5
}
