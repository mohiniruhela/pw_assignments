{
 "cells": [
  {
   "cell_type": "markdown",
   "id": "9d8c296d-e109-4e04-b975-430837a67fdb",
   "metadata": {},
   "source": [
    "#### Q1. Which keyword is used to create a function? Create a function to return a list of odd numbers in the range of 1 to 25.\n",
    "\n",
    "Answer:\n",
    "In python we use def keyword in order to create a function."
   ]
  },
  {
   "cell_type": "code",
   "execution_count": 45,
   "id": "889075b2-e694-40fa-84ba-e45f98140d53",
   "metadata": {},
   "outputs": [],
   "source": [
    "l = []\n",
    "def odd(a,b):\n",
    "    for i in range(a,b):\n",
    "        if(i%2!=0):            \n",
    "            l.append(i)\n",
    "    return l\n",
    "\n",
    "    "
   ]
  },
  {
   "cell_type": "code",
   "execution_count": 46,
   "id": "0337c58c-2b55-4f6f-aa1e-c44408c10817",
   "metadata": {},
   "outputs": [],
   "source": [
    "x = odd(1,25)"
   ]
  },
  {
   "cell_type": "code",
   "execution_count": 47,
   "id": "2737c61e-7ba0-4e57-9db1-45b671351b30",
   "metadata": {},
   "outputs": [
    {
     "data": {
      "text/plain": [
       "[1, 3, 5, 7, 9, 11, 13, 15, 17, 19, 21, 23]"
      ]
     },
     "execution_count": 47,
     "metadata": {},
     "output_type": "execute_result"
    }
   ],
   "source": [
    "x"
   ]
  },
  {
   "cell_type": "markdown",
   "id": "d1290355-ab7d-4009-94a9-f90e9eecd337",
   "metadata": {},
   "source": [
    "#### Q2. Why *args and **kwargs is used in some functions? Create a function each for *args and **kwargs to demonstrate their use.\n",
    "\n",
    "ANSWER:\n",
    "\n",
    "*args and **kwargs is used in some functions to pass a number arguments into the function\n",
    "\n",
    "#### *args:\n",
    "This makes the parameters dynamic means as per user demand a number of parameters can be passed. Here the answer is stored in the form of Tuples.\n",
    "\n",
    "For example:\n"
   ]
  },
  {
   "cell_type": "code",
   "execution_count": 48,
   "id": "33318c4d-4ac8-4df4-ac8c-ba70348afc12",
   "metadata": {},
   "outputs": [],
   "source": [
    "def test_arg(*args):\n",
    "    return args"
   ]
  },
  {
   "cell_type": "code",
   "execution_count": 49,
   "id": "3241e4c0-7795-4c69-8d19-c5f723f2c8ac",
   "metadata": {},
   "outputs": [
    {
     "data": {
      "text/plain": [
       "(1, 2, 3, 4)"
      ]
     },
     "execution_count": 49,
     "metadata": {},
     "output_type": "execute_result"
    }
   ],
   "source": [
    "test_arg(1,2,3,4) # making the arguments dynamic , ans is stored in the form of tuples"
   ]
  },
  {
   "cell_type": "markdown",
   "id": "c110057b-1995-4ab0-941d-1c5c3b7be7b7",
   "metadata": {},
   "source": [
    "#### **kwargs\n",
    "It allows us to pass the number of keyword arguments to tyhe functions means it takes the parameter as the key ans value pairs . Here the answer is stored in the form of dictonary.\n",
    "\n",
    "For example:"
   ]
  },
  {
   "cell_type": "code",
   "execution_count": 50,
   "id": "652b1ca6-18f4-469d-8665-f98dd161b125",
   "metadata": {},
   "outputs": [],
   "source": [
    "def test11(**kwargs):#this **kwargs return the dictonary and take the input as a key-value\n",
    "    return kwargs"
   ]
  },
  {
   "cell_type": "code",
   "execution_count": 51,
   "id": "9efc26fc-949e-4379-a8fe-b7a6a463430e",
   "metadata": {},
   "outputs": [
    {
     "data": {
      "text/plain": [
       "{'a': [1, 2, 3], 'b': [6, 7, 8]}"
      ]
     },
     "execution_count": 51,
     "metadata": {},
     "output_type": "execute_result"
    }
   ],
   "source": [
    "test11(a=[1,2,3],b=[6,7,8])"
   ]
  },
  {
   "cell_type": "markdown",
   "id": "133fb923-cdc9-439d-9e89-84e1f3870323",
   "metadata": {},
   "source": [
    "#### Q3.  What is an iterator in python? Name the method used to initialise the iterator object and the method used for iteration. Use these methods to print the first five elements of the given list [2, 4, 6, 8, 10, 12, 14, 16, 18, 20].\n",
    "\n",
    "ANSWER:\n",
    "An iteratir is an object that is used to iterate or loop through the elements or the items in the collections like list,set,etc.\n",
    "\n",
    "Python iterators objects is initializes using the iter() method and for the iteration method it uses next() method.\n",
    "\n",
    "For example:\n",
    "\n",
    "\n"
   ]
  },
  {
   "cell_type": "code",
   "execution_count": 52,
   "id": "6d5b9997-3757-44ce-84d5-f75a5dda32d8",
   "metadata": {},
   "outputs": [],
   "source": [
    "y = \"pwskills\""
   ]
  },
  {
   "cell_type": "code",
   "execution_count": 53,
   "id": "c11a9d60-8089-49b0-8071-e8f6f00c62a4",
   "metadata": {},
   "outputs": [],
   "source": [
    "s = iter(y)"
   ]
  },
  {
   "cell_type": "code",
   "execution_count": 54,
   "id": "e7608b6a-9e3b-40d5-946a-51b2c24c38c5",
   "metadata": {},
   "outputs": [
    {
     "data": {
      "text/plain": [
       "str_iterator"
      ]
     },
     "execution_count": 54,
     "metadata": {},
     "output_type": "execute_result"
    }
   ],
   "source": [
    "type(s)"
   ]
  },
  {
   "cell_type": "code",
   "execution_count": 55,
   "id": "4ca64b15-613f-4d22-a366-ae22e3159fc4",
   "metadata": {},
   "outputs": [
    {
     "data": {
      "text/plain": [
       "'p'"
      ]
     },
     "execution_count": 55,
     "metadata": {},
     "output_type": "execute_result"
    }
   ],
   "source": [
    "next(s)"
   ]
  },
  {
   "cell_type": "code",
   "execution_count": 56,
   "id": "6de72dd6-1305-4bf2-9d79-ff54f47f4606",
   "metadata": {},
   "outputs": [
    {
     "data": {
      "text/plain": [
       "'w'"
      ]
     },
     "execution_count": 56,
     "metadata": {},
     "output_type": "execute_result"
    }
   ],
   "source": [
    "next(s)"
   ]
  },
  {
   "cell_type": "code",
   "execution_count": 57,
   "id": "9f187f2b-adbd-4238-9f14-20eb4969687b",
   "metadata": {},
   "outputs": [
    {
     "data": {
      "text/plain": [
       "'s'"
      ]
     },
     "execution_count": 57,
     "metadata": {},
     "output_type": "execute_result"
    }
   ],
   "source": [
    "next(s)\n"
   ]
  },
  {
   "cell_type": "code",
   "execution_count": 58,
   "id": "21cc6457-5230-4cb4-aeb6-0a719a49c5f0",
   "metadata": {},
   "outputs": [
    {
     "data": {
      "text/plain": [
       "'k'"
      ]
     },
     "execution_count": 58,
     "metadata": {},
     "output_type": "execute_result"
    }
   ],
   "source": [
    "next(s)"
   ]
  },
  {
   "cell_type": "code",
   "execution_count": 59,
   "id": "2932c0d7-b418-4a70-9257-427a87afc932",
   "metadata": {},
   "outputs": [
    {
     "data": {
      "text/plain": [
       "'i'"
      ]
     },
     "execution_count": 59,
     "metadata": {},
     "output_type": "execute_result"
    }
   ],
   "source": [
    "\n",
    "next(s)"
   ]
  },
  {
   "cell_type": "code",
   "execution_count": 60,
   "id": "aa388bcf-46dd-4455-86ed-7dfd67664741",
   "metadata": {},
   "outputs": [
    {
     "data": {
      "text/plain": [
       "'l'"
      ]
     },
     "execution_count": 60,
     "metadata": {},
     "output_type": "execute_result"
    }
   ],
   "source": [
    "\n",
    "next(s)"
   ]
  },
  {
   "cell_type": "code",
   "execution_count": 61,
   "id": "8f2bad06-230e-4bbc-8cc3-fb4aab71ddb1",
   "metadata": {},
   "outputs": [
    {
     "data": {
      "text/plain": [
       "'l'"
      ]
     },
     "execution_count": 61,
     "metadata": {},
     "output_type": "execute_result"
    }
   ],
   "source": [
    "next(s)"
   ]
  },
  {
   "cell_type": "code",
   "execution_count": 62,
   "id": "15531cb0-49b8-4372-b6b6-7190e18c1e2f",
   "metadata": {},
   "outputs": [
    {
     "data": {
      "text/plain": [
       "'s'"
      ]
     },
     "execution_count": 62,
     "metadata": {},
     "output_type": "execute_result"
    }
   ],
   "source": [
    "next(s)"
   ]
  },
  {
   "cell_type": "markdown",
   "id": "21e8af9d-80a4-44a8-a220-347b21aa7e3d",
   "metadata": {},
   "source": [
    " first five elements of the given list [2, 4, 6, 8, 10, 12, 14, 16, 18, 20]. as show below:\n"
   ]
  },
  {
   "cell_type": "code",
   "execution_count": 65,
   "id": "49fa44e3-9d88-40c4-93ec-0e2d982215ed",
   "metadata": {},
   "outputs": [],
   "source": [
    "my_list=[2,4,6,8,10,12,14,16,18,20]\n",
    "\n",
    "my_iter=iter(my_list)"
   ]
  },
  {
   "cell_type": "code",
   "execution_count": 68,
   "id": "a7f12471-80c4-4408-8b02-f1b12a9a4eb2",
   "metadata": {},
   "outputs": [
    {
     "data": {
      "text/plain": [
       "list_iterator"
      ]
     },
     "execution_count": 68,
     "metadata": {},
     "output_type": "execute_result"
    }
   ],
   "source": [
    "type(my_iter)"
   ]
  },
  {
   "cell_type": "code",
   "execution_count": 69,
   "id": "f87db46f-8f59-4f6d-853e-d9b6bedc6312",
   "metadata": {},
   "outputs": [
    {
     "name": "stdout",
     "output_type": "stream",
     "text": [
      "2\n",
      "4\n",
      "6\n",
      "8\n",
      "10\n"
     ]
    }
   ],
   "source": [
    "for i in range(5):\n",
    "    x = next(my_iter)\n",
    "    print(x)"
   ]
  },
  {
   "cell_type": "markdown",
   "id": "08dbe5ee-daf7-4220-8e75-a35cfb4bd1a4",
   "metadata": {},
   "source": [
    "#### Q4.  What is a generator function in python? Why yield keyword is used? Give an example of a generator function.\n",
    "\n",
    "ANSWER:\n",
    "\n",
    "Generator Function.\n",
    "In python the generator function return the traversal objects and are use to create iterators.\n",
    "\n",
    "Yield Keyword use:\n",
    "The yield keyword is like another one we use to return an expression or object,tupicaly in functions,called return.It basically control the flow of a generator function.\n",
    "\n",
    "\n",
    "Example of a generator function.\n"
   ]
  },
  {
   "cell_type": "code",
   "execution_count": 70,
   "id": "c029be02-e07c-402b-ae47-7c3e6265ff48",
   "metadata": {},
   "outputs": [],
   "source": [
    "def test_fib(n):\n",
    "    a,b = 0,1\n",
    "    for i in range(n):\n",
    "        yield a#generator funct\n",
    "        a,b=b,a+b"
   ]
  },
  {
   "cell_type": "code",
   "execution_count": 71,
   "id": "04734b4a-c129-42fe-b21b-0ad3ad795eab",
   "metadata": {},
   "outputs": [
    {
     "name": "stdout",
     "output_type": "stream",
     "text": [
      "0\n",
      "1\n",
      "1\n",
      "2\n",
      "3\n",
      "5\n",
      "8\n",
      "13\n",
      "21\n",
      "34\n"
     ]
    }
   ],
   "source": [
    "for i in test_fib(10):\n",
    "    print(i)"
   ]
  },
  {
   "cell_type": "markdown",
   "id": "da3b0405-7312-4bf1-a2e5-2ba17746820a",
   "metadata": {},
   "source": [
    "#### Q5. Create a generator function for prime numbers less than 1000. Use the next() method to print the first 20 prime numbers."
   ]
  },
  {
   "cell_type": "code",
   "execution_count": 73,
   "id": "4d12a026-24f6-42f6-9825-da197456f97f",
   "metadata": {},
   "outputs": [
    {
     "name": "stdout",
     "output_type": "stream",
     "text": [
      "2\n",
      "3\n",
      "5\n",
      "7\n",
      "11\n",
      "13\n",
      "17\n",
      "19\n",
      "23\n",
      "29\n",
      "31\n",
      "37\n",
      "41\n",
      "43\n",
      "47\n",
      "53\n",
      "59\n",
      "61\n",
      "67\n",
      "71\n"
     ]
    }
   ],
   "source": [
    "def prime_generat():\n",
    "    primes = []\n",
    "    num = 2\n",
    "    while True:\n",
    "        is_prime = True\n",
    "        for prime in primes:\n",
    "            if num % prime == 0:\n",
    "                is_prime = False\n",
    "                break\n",
    "        if is_prime:\n",
    "            primes.append(num)\n",
    "            yield num\n",
    "        num += 1\n",
    "\n",
    "# Create the generator object\n",
    "prime_gen = prime_generat()\n",
    "\n",
    "# Print the first 20 prime numbers\n",
    "for _ in range(20):\n",
    "    prime = next(prime_gen)\n",
    "    print(prime)\n"
   ]
  },
  {
   "cell_type": "markdown",
   "id": "bf0221c0-c4dc-4ae6-880d-9216d428d50b",
   "metadata": {},
   "source": [
    "#### Q6. Write a python program to print the first 10 Fibonacci numbers using a while loop.\n"
   ]
  },
  {
   "cell_type": "code",
   "execution_count": 81,
   "id": "06539229-c428-42ed-966e-8154afb2e48e",
   "metadata": {},
   "outputs": [
    {
     "name": "stdout",
     "output_type": "stream",
     "text": [
      "first 10 fibonacci numbers are:\n",
      "0\n",
      "1\n",
      "1\n",
      "2\n",
      "3\n",
      "5\n",
      "8\n",
      "13\n",
      "21\n",
      "34\n",
      "55\n"
     ]
    }
   ],
   "source": [
    "a = 0\n",
    "b = 1\n",
    "n=1\n",
    "print(\"first 10 fibonacci numbers are:\")\n",
    "print(f'{a}\\n{b}')\n",
    "while(n!=10):\n",
    "    c = a+b\n",
    "    print(f'{c}')\n",
    "    a=b\n",
    "    b=c\n",
    "    n=n+1\n",
    "    \n",
    "    "
   ]
  },
  {
   "cell_type": "markdown",
   "id": "a1741296-153b-47e9-ba93-fefd7ffda461",
   "metadata": {},
   "source": [
    "#### Q7. Write a List Comprehension to iterate through the given string: ‘pwskills’. Expected output: ['p', 'w', 's', k', 'i', 'l', 'l', 's']"
   ]
  },
  {
   "cell_type": "code",
   "execution_count": 83,
   "id": "beea77b6-00d7-408d-8bdd-356461479817",
   "metadata": {},
   "outputs": [
    {
     "name": "stdout",
     "output_type": "stream",
     "text": [
      "['p', 'w', 's', 'k', 'i', 'l', 'l', 's']\n"
     ]
    }
   ],
   "source": [
    "my_string=\"pwskills\"\n",
    "list_comp=[char for char in my_string]\n",
    "print(list_comp)"
   ]
  },
  {
   "cell_type": "markdown",
   "id": "332f6e7c-0881-4fac-9b7e-fd4fc266bddf",
   "metadata": {},
   "source": [
    "#### Q8. Write a python program to check whether a given number is Palindrome or not using a while loop"
   ]
  },
  {
   "cell_type": "code",
   "execution_count": 92,
   "id": "2be8a485-935e-483a-8e1a-5470b29a4848",
   "metadata": {},
   "outputs": [
    {
     "name": "stdin",
     "output_type": "stream",
     "text": [
      "enter the number to be checked 121\n"
     ]
    },
    {
     "name": "stdout",
     "output_type": "stream",
     "text": [
      "palindrome\n"
     ]
    }
   ],
   "source": [
    "a = int(input(\"enter the number to be checked\"))\n",
    "b=a\n",
    "rem=0\n",
    "while(a!=0):\n",
    "    r = a%10\n",
    "    rem=rem*10+r\n",
    "    a=a//10  \n",
    "if(rem==b):\n",
    "    print(\"palindrome\")\n",
    "else:\n",
    "    print(\"not a palindrome\")"
   ]
  },
  {
   "cell_type": "markdown",
   "id": "71d4f979-d50e-4e5e-bd71-ca86ac3998eb",
   "metadata": {},
   "source": [
    "#### Q9. Write a code to print odd numbers from 1 to 100 using list comprehension.\n"
   ]
  },
  {
   "cell_type": "code",
   "execution_count": 93,
   "id": "f09a17b9-798a-4a20-85f7-df579fda51ec",
   "metadata": {},
   "outputs": [
    {
     "name": "stdout",
     "output_type": "stream",
     "text": [
      "[1, 3, 5, 7, 9, 11, 13, 15, 17, 19, 21, 23, 25, 27, 29, 31, 33, 35, 37, 39, 41, 43, 45, 47, 49, 51, 53, 55, 57, 59, 61, 63, 65, 67, 69, 71, 73, 75, 77, 79, 81, 83, 85, 87, 89, 91, 93, 95, 97, 99]\n"
     ]
    }
   ],
   "source": [
    "odd_numbers = [num for num in range(1, 101) if num % 2 != 0]\n",
    "print(odd_numbers)"
   ]
  },
  {
   "cell_type": "code",
   "execution_count": null,
   "id": "5d41db60-0b5f-4cb9-a523-65242d99cd69",
   "metadata": {},
   "outputs": [],
   "source": []
  }
 ],
 "metadata": {
  "kernelspec": {
   "display_name": "Python 3 (ipykernel)",
   "language": "python",
   "name": "python3"
  },
  "language_info": {
   "codemirror_mode": {
    "name": "ipython",
    "version": 3
   },
   "file_extension": ".py",
   "mimetype": "text/x-python",
   "name": "python",
   "nbconvert_exporter": "python",
   "pygments_lexer": "ipython3",
   "version": "3.10.8"
  }
 },
 "nbformat": 4,
 "nbformat_minor": 5
}
